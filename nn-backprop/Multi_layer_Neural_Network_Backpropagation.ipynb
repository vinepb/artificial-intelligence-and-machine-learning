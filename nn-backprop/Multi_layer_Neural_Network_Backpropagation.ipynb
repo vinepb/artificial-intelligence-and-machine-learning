{
  "nbformat": 4,
  "nbformat_minor": 0,
  "metadata": {
    "colab": {
      "name": "Multi-layer_Neural_Network_Backpropagation.ipynb",
      "provenance": [],
      "collapsed_sections": [
        "wOlPACq8QzCA",
        "aKrjEw9xQ3LQ",
        "mf_3RCV0ZyoA",
        "HYgj98XkDabf",
        "UaRHvCTIXv3x",
        "bsIhyhnR0pw9",
        "aGkDU-G59PPB"
      ],
      "toc_visible": true
    },
    "kernelspec": {
      "name": "python3",
      "display_name": "Python 3"
    },
    "language_info": {
      "name": "python"
    }
  },
  "cells": [
    {
      "cell_type": "markdown",
      "metadata": {
        "id": "SVMpLxf4Z-3L"
      },
      "source": [
        "# Multi-layer Neural Newtork with Backpropagation\n",
        "### Vinicius Pimenta Bernardo (202002447)\n",
        "### Thiago Werneck Ferreira dos Santos (202003651)"
      ]
    },
    {
      "cell_type": "markdown",
      "metadata": {
        "id": "jc-JvCZGZ8oL"
      },
      "source": [
        "# Import libs"
      ]
    },
    {
      "cell_type": "code",
      "metadata": {
        "id": "Pm1ogXIxZ793"
      },
      "source": [
        "import math\n",
        "import numpy as np\n",
        "import matplotlib.pyplot as plt\n",
        "from typing import List\n",
        "\n",
        "from decimal import *\n",
        "\n",
        "import pandas as pd"
      ],
      "execution_count": null,
      "outputs": []
    },
    {
      "cell_type": "code",
      "metadata": {
        "id": "aZDmdhJTYq7b"
      },
      "source": [
        "getcontext().prec = 28"
      ],
      "execution_count": null,
      "outputs": []
    },
    {
      "cell_type": "markdown",
      "metadata": {
        "id": "S0qEKaeKuGwH"
      },
      "source": [
        "$L$ is the number of layers, including the input and output layers, and $s_L^{(l)}$ is the number of neurons per layer"
      ]
    },
    {
      "cell_type": "markdown",
      "metadata": {
        "id": "wOlPACq8QzCA"
      },
      "source": [
        "# Upload training set"
      ]
    },
    {
      "cell_type": "code",
      "metadata": {
        "colab": {
          "resources": {
            "http://localhost:8080/nbextensions/google.colab/files.js": {
              "data": "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",
              "ok": true,
              "headers": [
                [
                  "content-type",
                  "application/javascript"
                ]
              ],
              "status": 200,
              "status_text": ""
            }
          },
          "base_uri": "https://localhost:8080/",
          "height": 72
        },
        "id": "deo9G_CJZ-BL",
        "outputId": "40af1bf9-ccdf-4a29-feda-167a2148a2a7"
      },
      "source": [
        "from google.colab import files\n",
        "uploaded = files.upload()\n",
        "# Upload classification2.txt, needs to be repeated with every new session"
      ],
      "execution_count": null,
      "outputs": [
        {
          "output_type": "display_data",
          "data": {
            "text/html": [
              "\n",
              "     <input type=\"file\" id=\"files-d0e569f8-3e53-4936-850e-51149fa359b3\" name=\"files[]\" multiple disabled\n",
              "        style=\"border:none\" />\n",
              "     <output id=\"result-d0e569f8-3e53-4936-850e-51149fa359b3\">\n",
              "      Upload widget is only available when the cell has been executed in the\n",
              "      current browser session. Please rerun this cell to enable.\n",
              "      </output>\n",
              "      <script src=\"/nbextensions/google.colab/files.js\"></script> "
            ],
            "text/plain": [
              "<IPython.core.display.HTML object>"
            ]
          },
          "metadata": {
            "tags": []
          }
        },
        {
          "output_type": "stream",
          "text": [
            "Saving classification2.txt to classification2.txt\n"
          ],
          "name": "stdout"
        }
      ]
    },
    {
      "cell_type": "code",
      "metadata": {
        "id": "YlB8v4c8aMbI",
        "colab": {
          "base_uri": "https://localhost:8080/"
        },
        "outputId": "0412f3ba-b325-4900-d41e-02914a9512b8"
      },
      "source": [
        "file_name = \"classification2.txt\"\n",
        "training_data = uploaded[file_name].decode(\"utf-8\").split(\"\\n\")\n",
        "# Parse data\n",
        "for i in range(len(training_data)):\n",
        "    training_data[i] = training_data[i].split(\",\")\n",
        "training_data = training_data[:-1]\n",
        "print(training_data)\n",
        "print(len(training_data))"
      ],
      "execution_count": null,
      "outputs": [
        {
          "output_type": "stream",
          "text": [
            "[['0.051267', '0.69956', '1'], ['-0.092742', '0.68494', '1'], ['-0.21371', '0.69225', '1'], ['-0.375', '0.50219', '1'], ['-0.51325', '0.46564', '1'], ['-0.52477', '0.2098', '1'], ['-0.39804', '0.034357', '1'], ['-0.30588', '-0.19225', '1'], ['0.016705', '-0.40424', '1'], ['0.13191', '-0.51389', '1'], ['0.38537', '-0.56506', '1'], ['0.52938', '-0.5212', '1'], ['0.63882', '-0.24342', '1'], ['0.73675', '-0.18494', '1'], ['0.54666', '0.48757', '1'], ['0.322', '0.5826', '1'], ['0.16647', '0.53874', '1'], ['-0.046659', '0.81652', '1'], ['-0.17339', '0.69956', '1'], ['-0.47869', '0.63377', '1'], ['-0.60541', '0.59722', '1'], ['-0.62846', '0.33406', '1'], ['-0.59389', '0.005117', '1'], ['-0.42108', '-0.27266', '1'], ['-0.11578', '-0.39693', '1'], ['0.20104', '-0.60161', '1'], ['0.46601', '-0.53582', '1'], ['0.67339', '-0.53582', '1'], ['-0.13882', '0.54605', '1'], ['-0.29435', '0.77997', '1'], ['-0.26555', '0.96272', '1'], ['-0.16187', '0.8019', '1'], ['-0.17339', '0.64839', '1'], ['-0.28283', '0.47295', '1'], ['-0.36348', '0.31213', '1'], ['-0.30012', '0.027047', '1'], ['-0.23675', '-0.21418', '1'], ['-0.06394', '-0.18494', '1'], ['0.062788', '-0.16301', '1'], ['0.22984', '-0.41155', '1'], ['0.2932', '-0.2288', '1'], ['0.48329', '-0.18494', '1'], ['0.64459', '-0.14108', '1'], ['0.46025', '0.012427', '1'], ['0.6273', '0.15863', '1'], ['0.57546', '0.26827', '1'], ['0.72523', '0.44371', '1'], ['0.22408', '0.52412', '1'], ['0.44297', '0.67032', '1'], ['0.322', '0.69225', '1'], ['0.13767', '0.57529', '1'], ['-0.0063364', '0.39985', '1'], ['-0.092742', '0.55336', '1'], ['-0.20795', '0.35599', '1'], ['-0.20795', '0.17325', '1'], ['-0.43836', '0.21711', '1'], ['-0.21947', '-0.016813', '1'], ['-0.13882', '-0.27266', '1'], ['0.18376', '0.93348', '0'], ['0.22408', '0.77997', '0'], ['0.29896', '0.61915', '0'], ['0.50634', '0.75804', '0'], ['0.61578', '0.7288', '0'], ['0.60426', '0.59722', '0'], ['0.76555', '0.50219', '0'], ['0.92684', '0.3633', '0'], ['0.82316', '0.27558', '0'], ['0.96141', '0.085526', '0'], ['0.93836', '0.012427', '0'], ['0.86348', '-0.082602', '0'], ['0.89804', '-0.20687', '0'], ['0.85196', '-0.36769', '0'], ['0.82892', '-0.5212', '0'], ['0.79435', '-0.55775', '0'], ['0.59274', '-0.7405', '0'], ['0.51786', '-0.5943', '0'], ['0.46601', '-0.41886', '0'], ['0.35081', '-0.57968', '0'], ['0.28744', '-0.76974', '0'], ['0.085829', '-0.75512', '0'], ['0.14919', '-0.57968', '0'], ['-0.13306', '-0.4481', '0'], ['-0.40956', '-0.41155', '0'], ['-0.39228', '-0.25804', '0'], ['-0.74366', '-0.25804', '0'], ['-0.69758', '0.041667', '0'], ['-0.75518', '0.2902', '0'], ['-0.69758', '0.68494', '0'], ['-0.4038', '0.70687', '0'], ['-0.38076', '0.91886', '0'], ['-0.50749', '0.90424', '0'], ['-0.54781', '0.70687', '0'], ['0.10311', '0.77997', '0'], ['0.057028', '0.91886', '0'], ['-0.10426', '0.99196', '0'], ['-0.081221', '1.1089', '0'], ['0.28744', '1.087', '0'], ['0.39689', '0.82383', '0'], ['0.63882', '0.88962', '0'], ['0.82316', '0.66301', '0'], ['0.67339', '0.64108', '0'], ['1.0709', '0.10015', '0'], ['-0.046659', '-0.57968', '0'], ['-0.23675', '-0.63816', '0'], ['-0.15035', '-0.36769', '0'], ['-0.49021', '-0.3019', '0'], ['-0.46717', '-0.13377', '0'], ['-0.28859', '-0.060673', '0'], ['-0.61118', '-0.067982', '0'], ['-0.66302', '-0.21418', '0'], ['-0.59965', '-0.41886', '0'], ['-0.72638', '-0.082602', '0'], ['-0.83007', '0.31213', '0'], ['-0.72062', '0.53874', '0'], ['-0.59389', '0.49488', '0'], ['-0.48445', '0.99927', '0'], ['-0.0063364', '0.99927', '0'], ['0.63265', '-0.030612', '0']]\n",
            "118\n"
          ],
          "name": "stdout"
        }
      ]
    },
    {
      "cell_type": "markdown",
      "metadata": {
        "id": "V5ObSWr0ZcLI"
      },
      "source": [
        "reference for this section:\n",
        "\n",
        "https://buomsoo-kim.github.io/colab/2018/04/15/Colab-Importing-CSV-and-JSON-files-in-Google-Colab.md/"
      ]
    },
    {
      "cell_type": "markdown",
      "metadata": {
        "id": "aKrjEw9xQ3LQ"
      },
      "source": [
        "# Weights initialization"
      ]
    },
    {
      "cell_type": "markdown",
      "metadata": {
        "id": "YhaqysNuNtQj"
      },
      "source": [
        "There is a separate weight matrix for each layer $l \\in L,\\space l>1$ so, there will be a matrx $w^{(L)}, \\space w^{(L-1)}, \\space w^{(L-2)}, \\space ..., w^{(2)}$\n",
        "\n",
        "A matrix $w^{(l)}$ will be used to calculate the activation for that same layer $l$ using the activations from layer $l-1$"
      ]
    },
    {
      "cell_type": "code",
      "metadata": {
        "id": "2hw5ZJPNyLL-"
      },
      "source": [
        "def initializeWeights(layers: List) ->List[np.ndarray]:\n",
        "    \"\"\"\n",
        "    Returns a list of arrays containing random weights\n",
        "    \"\"\"\n",
        "    weights = []\n",
        "    for l in range(1, len(layers)):\n",
        "        weights.append(np.random.rand(layers[l], layers[l-1]+1))\n",
        "    return weights"
      ],
      "execution_count": null,
      "outputs": []
    },
    {
      "cell_type": "markdown",
      "metadata": {
        "id": "mf_3RCV0ZyoA"
      },
      "source": [
        " # Foward propagation function definition"
      ]
    },
    {
      "cell_type": "markdown",
      "metadata": {
        "id": "OnXB3xoWi3Et"
      },
      "source": [
        "$z^{(l)}_i=\\sum_{j=0}^{s_L^{(l-1)}}w_{ij}^{(l)}y_{j}^{(l-1)}$\n",
        "\n",
        "for a given $i$, $w_{ij}^{(l)}$ is the line ```[i:]``` from the weight matrix of layer $(l)$, $y_j^{(l-1)}$ is the column o activation values of layer $(l-1)$, and $s_L^{(n)}$ is the number of neurons on a given layer $n$\n",
        "\n",
        "$\\begin{pmatrix}\n",
        "  w^{(l)}_{i,0} & w^{(l)}_{i,1} & \\cdots & w^{(l)}_{i,s_L^{(l-1)}}\n",
        "\\end{pmatrix}\n",
        "\\begin{pmatrix}\n",
        "  1\\\\\n",
        "  y_{1}^{(l-1)}\\\\\n",
        "  \\vdots\\\\\n",
        "  y_{s_L^{(l-1)}}^{(l-1)}\n",
        "\\end{pmatrix}=z_i^{(l)}$\n",
        "\n",
        "and the activation $y_i^{(l)}$ is $g(z_i^{(l)})=\\frac{1}{1+e^{z_i^{(l)}}}$"
      ]
    },
    {
      "cell_type": "code",
      "metadata": {
        "id": "jGfqO8d0PJ6b"
      },
      "source": [
        "def transfer(weights: np.ndarray, activations: np.ndarray) ->float:\n",
        "    \"\"\"\n",
        "    Single neuron weighted sum\n",
        "    \"\"\"\n",
        "    transfer = weights[0] # bias weight * 1\n",
        "    transfer += np.matmul(weights[1:], activations)[0]\n",
        "    return transfer\n",
        "\n",
        "def activation(transfer: float) ->float:\n",
        "    \"\"\"\n",
        "    Single neuron activation function\n",
        "    \"\"\"\n",
        "    return (1/(1+math.exp(-transfer)))"
      ],
      "execution_count": null,
      "outputs": []
    },
    {
      "cell_type": "markdown",
      "metadata": {
        "id": "AhMflICxsKaG"
      },
      "source": [
        "compute $z^{(1)}$ and $y^{(1)}$ using $x^{(m)}$ for one $m$ corresponding to a single training set and then $z^{(l)}$ and $y^{(l)}$ using $y^{(l-1)}$ for $l\\in2...L$"
      ]
    },
    {
      "cell_type": "code",
      "metadata": {
        "id": "3H6sputTe6VJ"
      },
      "source": [
        "def fowardPropagate(inputs: np.ndarray, weights: List[np.ndarray], layers: List) ->(List[np.ndarray], List[np.ndarray]):\n",
        "    \"\"\"Propagate the input throughout the network\n",
        "\n",
        "    The second layer activation is calculated using the inputs, which are the activation of the first layer,\n",
        "    and the remaining layers activation values are calculated using the values from previous layer\n",
        "    @param inputs: A single set of inputs from the training set as a column\n",
        "    @param weights: The network neurons weights\n",
        "    @param layers: List containing number of units per layer\n",
        "    @return neuronsNetSum, neuronsActivation: The propagated transfer and activation values of neurons\n",
        "    \"\"\"\n",
        "    neuronsTransfer = []\n",
        "    neuronsActivation = []\n",
        "    layerTransfer = np.array([[transfer(w[0][i,:], inputs)] for i in range(layers[1])])\n",
        "    layerActivation = np.array([[activation(layerTransfer[i])] for i in range(layers[1])])\n",
        "    neuronsTransfer.append(layerTransfer)\n",
        "    neuronsActivation.append(layerActivation)\n",
        "    \n",
        "    for l in range(2, len(layers)):\n",
        "        layerTransfer = np.array([[transfer(w[l-1][i,:], neuronsActivation[l-2])] for i in range(layers[l])])\n",
        "        layerActivation = np.array([[activation(layerTransfer[i])] for i in range(layers[l])])\n",
        "        neuronsTransfer.append(layerTransfer)\n",
        "        neuronsActivation.append(layerActivation)\n",
        "\n",
        "    return neuronsTransfer, neuronsActivation"
      ],
      "execution_count": null,
      "outputs": []
    },
    {
      "cell_type": "markdown",
      "metadata": {
        "id": "HYgj98XkDabf"
      },
      "source": [
        "# Error calculation"
      ]
    },
    {
      "cell_type": "markdown",
      "metadata": {
        "id": "FdUQNWVUTDKd"
      },
      "source": [
        "$J(w) = \\frac{1}{2}*\\sum_{i=1}^{s_L^{(L)}}(y_i^{(L)}-t_i)^2$\n",
        "\n",
        "Considering the error function as:\n",
        "\n",
        "$E = \\frac{1}{2}*(y_i^{(L)}-t_i)^2$\n",
        "\n",
        "for a single neuron $i$ on the output layer, and as:\n",
        "\n",
        "$E=\\frac{1}{2n}\\sum_{m=1}^n (y^{(L)}_i-t^{(m)}_i)$\n",
        "\n",
        "for $n$ training examples."
      ]
    },
    {
      "cell_type": "code",
      "metadata": {
        "id": "Urah2l0WDiVG"
      },
      "source": [
        "def calculateSumError(outputs: np.ndarray, expected: np.ndarray, layers: List) ->float:\n",
        "    \"\"\"\n",
        "    Returns the accumulated error J(w) of the last layer\n",
        "    \"\"\"\n",
        "    sumError = 0.0\n",
        "    for i in range(layers[-1]):\n",
        "        sumError += ((outputs[i][0] - expected[i][0]) ** 2) * 0.5\n",
        "    return sumError"
      ],
      "execution_count": null,
      "outputs": []
    },
    {
      "cell_type": "markdown",
      "metadata": {
        "id": "UaRHvCTIXv3x"
      },
      "source": [
        "# Backpropagatin function definition"
      ]
    },
    {
      "cell_type": "markdown",
      "metadata": {
        "id": "nwmM-ZQafn-Y"
      },
      "source": [
        "Considering the error function as:\n",
        "\n",
        "$E = \\frac{1}{2}*(y_i^{(L)}-t_i)^2$\n",
        "\n",
        "for a single neuron $i$ on the output layer.\n",
        "\n",
        "The derivative of the error is:\n",
        "\n",
        "$\\frac{\\delta E}{\\delta w^{(l)}_{ij}} = \\frac{\\delta E}{\\delta y^{(l)}_i}\\frac{\\delta y^{(l)}_i}{\\delta z^{(l)}_i}\\frac{\\delta z^{(l)}_i}{\\delta w^{(l)}_{ij}}=\\frac{\\delta E}{\\delta y^{(l)}_i}\\frac{\\delta y^{(l)}_i}{\\delta z^{(l)}_i}y^{(l-1)}_j=\\delta^{(l)}_iy^{(l-1)}_j$\n",
        "\n",
        "$\\frac{\\delta y_i^{(l)}}{\\delta z_i^{(l)}} = y_i^{(l)}(1-y_i^{(l)})$ when $y_i^{(l)}$ is $g(z_i^{(l)})=\\frac{1}{1+e^{-z_i^{(l)}}}$\n",
        "\n",
        "$\\delta^{(l)}_j=\\frac{\\delta E}{\\delta y^{(l)}_j}\\frac{\\delta y^{(l)}_j}{\\delta z^{(l)}_j}=\\begin{cases}(y^{(l)}_j-t_j)y^{(l)}_j(1-y^{(l)}_j), \\space l=L \\\\ (\\sum_{i=1}^{s_L^{(l+1)}}w_{ij}^{(l+1)}\\delta_{i}^{(l+1)})y^{(l)}_j(1-y^{(l)}_j), \\space l<L\\end{cases}$"
      ]
    },
    {
      "cell_type": "code",
      "metadata": {
        "id": "xl4F7CpyXtTt"
      },
      "source": [
        "def activationDerivate(activation: float) ->float:\n",
        "    \"\"\"\n",
        "    Single neuron activation derivate function\n",
        "    \"\"\"\n",
        "    return activation*(1.0 - activation)"
      ],
      "execution_count": null,
      "outputs": []
    },
    {
      "cell_type": "code",
      "metadata": {
        "id": "a2FS3W9mRgVV"
      },
      "source": [
        "def backPropagateError(outputs: np.ndarray, activations: List[np.ndarray], weights: List[np.ndarray], layers: List) ->List[np.ndarray]:\n",
        "    \"\"\"Backpropagate the error throughout the network\n",
        "\n",
        "    The last layer error is calculated using the expected outputs from the training examples,\n",
        "    and the remaining layers error values are calculated using the values from upfront layer\n",
        "    @param outputs: A single set of outputs from the training set as a column\n",
        "    @param activation: Calculated using the foward propagation\n",
        "    @param weights: The network neurons weights\n",
        "    @param layers: List containing number of units per layer\n",
        "    @return neuronsErrorDerivatives: The backpropagated error values of neurons\n",
        "    \"\"\"\n",
        "    neuronsErrorDerivatives = []\n",
        "    layerErrorDerivative = np.array([[((activations[len(layers)-2][i,0] - outputs[i,0])*activationDerivate(activations[len(layers)-2][i,0]))] for i in range(layers[len(layers)-1])])\n",
        "    neuronsErrorDerivatives.append(layerErrorDerivative)\n",
        "\n",
        "    for l in reversed(range(1, len(layers)-1)):\n",
        "        layerErrorDerivative = np.matmul(np.transpose(weights[l][:,1:]), neuronsErrorDerivatives[0])*activationDerivate(activations[l-1])\n",
        "        neuronsErrorDerivatives.insert(0, layerErrorDerivative)\n",
        "\n",
        "    return neuronsErrorDerivatives"
      ],
      "execution_count": null,
      "outputs": []
    },
    {
      "cell_type": "markdown",
      "metadata": {
        "id": "bsIhyhnR0pw9"
      },
      "source": [
        "# Update weights"
      ]
    },
    {
      "cell_type": "markdown",
      "metadata": {
        "id": "XskazuECS_S7"
      },
      "source": [
        "$\\Delta^{(l)}_{ij} = \\Delta^{(l)}_{ij}+y^{(l-1)}_j \\delta^{(l)}_i$"
      ]
    },
    {
      "cell_type": "code",
      "metadata": {
        "id": "KlN5vnDp4Jwx"
      },
      "source": [
        "def initializeDelta(layers: List) ->List[np.ndarray]:\n",
        "    \"\"\"\n",
        "    Returns a list of arrays containing zeros\n",
        "    \"\"\"\n",
        "    Delta = []\n",
        "    for l in range(1, len(layers)):\n",
        "        Delta.append(np.zeros((layers[l], layers[l-1]+1)))\n",
        "    return Delta\n",
        "\n",
        "def updateDelta(inputs: np.ndarray, Delta: List[np.ndarray], activations: List[np.ndarray], delta: List[np.ndarray], layers: List) ->List[np.ndarray]:\n",
        "    \"\"\"\n",
        "    Returns the updated value of Delta using delta and activation values\n",
        "    \"\"\"\n",
        "    updatedDelta = []\n",
        "    updatedDelta.append(Delta[0] + np.matmul(delta[0], np.array([np.append(np.array([[1]]), inputs)]) ) )\n",
        "    for l in range(2, len(layers)):\n",
        "        updatedDelta.append(Delta[l-1] + np.matmul(delta[l-1], np.array([np.append(np.array([[1]]), activations[l-2])]) ) )\n",
        "    return updatedDelta"
      ],
      "execution_count": null,
      "outputs": []
    },
    {
      "cell_type": "markdown",
      "metadata": {
        "id": "LriHK922lORh"
      },
      "source": [
        "$D^{(l)}_{ij} = \\frac{1}{m}\\Delta^{(l)}_{ij}+\\lambda w^{(l)}_{ij}$ for $j\\neq 0$\n",
        "\n",
        "and\n",
        "\n",
        "$D^{(l)}_{ij} = \\frac{1}{m}\\Delta^{(l)}_{ij}$ for $j=0$"
      ]
    },
    {
      "cell_type": "code",
      "metadata": {
        "id": "BFg40anQdWEx"
      },
      "source": [
        "def regRateMatrix(regRate: float, layers: List) ->List[np.array]:\n",
        "    \"\"\"\n",
        "    Returns the regularization matrix with the first columns being 0.0 and lambda for the rest\n",
        "    \"\"\"\n",
        "    regRates = []\n",
        "    for l in range(1, len(layers)):\n",
        "        line = np.append(np.array([0.0]), np.linspace(regRate, regRate, layers[l-1]))\n",
        "        grid = np.array([line])\n",
        "        for _ in range(1, layers[l]):\n",
        "            grid = np.append(grid, [line], axis=0)\n",
        "        regRates.append(grid)\n",
        "\n",
        "    return regRates\n",
        "\n",
        "def calculateWeightAdjust(Delta: List[np.ndarray], weights: List[np.ndarray], layers: List, num_examples: float, regRate: float=0.0) ->List[np.ndarray]:\n",
        "    \"\"\"\n",
        "    Returns matrixes containing the cost derivate for each weight\n",
        "    \"\"\"\n",
        "    weightsAdjust = []\n",
        "    regRates = regRateMatrix(regRate, layers)\n",
        "    for l in range(1, len(layers)):\n",
        "        layerWeightAdjust = Delta[l-1]*(1.0/num_examples) + weights[l-1]*regRates[l-1]\n",
        "        weightsAdjust.append(layerWeightAdjust)\n",
        "    \n",
        "    return weightsAdjust"
      ],
      "execution_count": null,
      "outputs": []
    },
    {
      "cell_type": "markdown",
      "metadata": {
        "id": "aGkDU-G59PPB"
      },
      "source": [
        "# Approximate gradient"
      ]
    },
    {
      "cell_type": "code",
      "metadata": {
        "id": "WMTNFym_9Tag"
      },
      "source": [
        "def initializeGradApprox(layers: List) ->List[np.ndarray]:\n",
        "    \"\"\"\n",
        "    Returns a list of arrays containing zeros\n",
        "    \"\"\"\n",
        "    gradApprox = []\n",
        "    for l in range(1, len(layers)):\n",
        "        gradApprox.append(np.zeros((layers[l], layers[l-1]+1), dtype=Decimal))\n",
        "    return gradApprox\n",
        "\n",
        "def transferNumerical(weights: np.ndarray, activations: np.ndarray) ->Decimal:\n",
        "    \"\"\"\n",
        "    Single neuron weighted sum\n",
        "    \"\"\"\n",
        "    transfer = Decimal(weights[0]) # bias weight * 1\n",
        "    transfer += Decimal(np.matmul(weights[1:], activations)[0])\n",
        "    return transfer\n",
        "\n",
        "def activationNumerical(transfer: Decimal) ->Decimal:\n",
        "    \"\"\"\n",
        "    Single neuron activation function\n",
        "    \"\"\"\n",
        "    return (Decimal(1.0)/Decimal((1.0+math.exp(-transfer))))\n",
        "\n",
        "def calculateSumErrorNumerical(outputs: np.ndarray, expected: np.ndarray, layers: List) ->Decimal:\n",
        "    sumError = Decimal(0.0)\n",
        "    for i in range(layers[-1]):\n",
        "        sumError += Decimal(((outputs[i][0] - expected[i][0]) ** 2)) * Decimal(0.5)\n",
        "    return sumError\n",
        "\n",
        "def activationDerivateNumerical(activation: float) ->Decimal:\n",
        "    \"\"\"\n",
        "    Single neuron activation derivate function\n",
        "    \"\"\"\n",
        "    return Decimal(activation)*(Decimal(1.0 - activation))\n",
        "\n",
        "def fowardPropagateNumerical(inputs: np.ndarray, weights: List[np.ndarray], layers: List) ->(List[np.ndarray], List[np.ndarray]):\n",
        "    \"\"\"Propagate the input throughout the network with Decimal instead of float\n",
        "\n",
        "    The second layer activation is calculated using the inputs, which are the activation of the first layer,\n",
        "    and the remaining layers activation values are calculated using the values from previous layer\n",
        "    @param inputs: A single set of inputs from the training set as a column\n",
        "    @param weights: The network neurons weights\n",
        "    @param layers: List containing number of units per layer\n",
        "    @return neuronsNetSum, neuronsActivation: The propagated transfer and activation values of neurons\n",
        "    \"\"\"\n",
        "    neuronsTransfer = []\n",
        "    neuronsActivation = []\n",
        "    layerTransfer = np.array([[transfer(w[0][i,:], inputs)] for i in range(layers[1])], dtype=Decimal)\n",
        "    layerActivation = np.array([[activation(layerTransfer[i])] for i in range(layers[1])], dtype=Decimal)\n",
        "    neuronsTransfer.append(layerTransfer)\n",
        "    neuronsActivation.append(layerActivation)\n",
        "    \n",
        "    for l in range(2, len(layers)):\n",
        "        layerTransfer = np.array([[transfer(w[l-1][i,:], neuronsActivation[l-2])] for i in range(layers[l])], dtype=Decimal)\n",
        "        layerActivation = np.array([[activation(layerTransfer[i])] for i in range(layers[l])], dtype=Decimal)\n",
        "        neuronsTransfer.append(layerTransfer)\n",
        "        neuronsActivation.append(layerActivation)\n",
        "\n",
        "    return neuronsTransfer, neuronsActivation\n",
        "\n",
        "def calculateGradApprox(weights: List[np.ndarray], inputs: np.ndarray, expected: np.ndarray, layers: List) ->List[np.ndarray]:\n",
        "    epsilon = 0.00001\n",
        "    gradApprox = []\n",
        "    for l in range(1, len(layers)):\n",
        "        layer_weights = np.zeros((layers[l], layers[l-1]+1), dtype=Decimal)\n",
        "        for i in range(0, layers[l]):\n",
        "            for j in range(0, layers[l-1]+1):\n",
        "                w_plus = np.copy(weights)\n",
        "                w_minus = np.copy(weights)\n",
        "                w_plus[l-1][i,j] += epsilon\n",
        "                w_minus[l-1][i,j] -= epsilon\n",
        "                z_plus, y_plus = fowardPropagateNumerical(inputs, w_plus, layers)\n",
        "                sumError_plus = calculateSumErrorNumerical(y_plus[-1], expected, layers)\n",
        "                z_minus, y_minus = fowardPropagateNumerical(inputs, w_minus, layers)\n",
        "                sumError_minus = calculateSumErrorNumerical(y_minus[-1], expected, layers)\n",
        "                dJ_dwij = (Decimal(sumError_plus) - Decimal(sumError_minus)) / Decimal((2.0 * epsilon))\n",
        "                layer_weights[i, j] += dJ_dwij\n",
        "        gradApprox.append(layer_weights)\n",
        "    return gradApprox"
      ],
      "execution_count": null,
      "outputs": []
    },
    {
      "cell_type": "markdown",
      "metadata": {
        "id": "XwuzDWktDDmv"
      },
      "source": [
        "# Run training"
      ]
    },
    {
      "cell_type": "markdown",
      "metadata": {
        "id": "q1KvQ4iVqaWA"
      },
      "source": [
        "### Compare numerical and standard gradient"
      ]
    },
    {
      "cell_type": "code",
      "metadata": {
        "colab": {
          "base_uri": "https://localhost:8080/"
        },
        "id": "h-vGbGdT5zAt",
        "outputId": "d66760b0-e57a-4268-abd6-de3fab9f1e0f"
      },
      "source": [
        "######################################################################\n",
        "# Run one epoch to compare numerical gradient with calculated derivate\n",
        "######################################################################\n",
        "# s_l always needs 2 at beginning and 1 at the end to comply with data format\n",
        "# s_l = [2, 1]\n",
        "s_l = [2, 3, 3, 1]\n",
        "initial_weights = initializeWeights(s_l)\n",
        "w = initial_weights.copy()\n",
        "lambdaRate = 0.0\n",
        "alphaRate = 1.0\n",
        "costsList = []\n",
        "\n",
        "# num_training = len(training_data)\n",
        "num_training = 100\n",
        "\n",
        "print(\"Network shape: s_l = \", end='')\n",
        "print(s_l)\n",
        "print(\"Training sets used: \" + str(num_training))\n",
        "print(\"Alpha rate: \" + str(alphaRate) + \" Lambda rate: \" + str(lambdaRate))\n",
        "print(\"\")\n",
        "\n",
        "print(\"Initial weights\")\n",
        "for s in range(len(w)):\n",
        "    print(\"w^(%s) \" % (s+2))\n",
        "    print(w[s])\n",
        "\n",
        "# Init stuff with 0\n",
        "Delta = initializeDelta(s_l)\n",
        "gradApproxSum = initializeGradApprox(s_l)\n",
        "cost = 0\n",
        "# Run one epoch\n",
        "for m in range(num_training):\n",
        "    x = np.array([[float(training_data[m][0])],[float(training_data[m][1])]])\n",
        "    t = np.array([[float(training_data[m][2])]])\n",
        "    z, y = fowardPropagate(x, w, s_l)\n",
        "    cost += calculateSumError(y[-1], t, s_l)\n",
        "    delta = backPropagateError(t, y, w, s_l) \n",
        "    Delta = updateDelta(x, Delta, y, delta, s_l)\n",
        "    gradApprox = calculateGradApprox(w, x, t, s_l)\n",
        "    for s in range(len(gradApprox)):\n",
        "        gradApproxSum[s] = gradApproxSum[s] + gradApprox[s]\n",
        "cost = cost/num_training\n",
        "costsList.append(cost)\n",
        "D = calculateWeightAdjust(Delta, w, s_l, num_training, lambdaRate)\n",
        "\n",
        "# Print both derivates (calculated and numerical)\n",
        "print(\"\\nCost derivates\")\n",
        "for s in range(len(D)):\n",
        "    print(\"D^(%s) \" % (s+2))\n",
        "    print(D[s])\n",
        "for s in range(len(gradApproxSum)):\n",
        "    gradApproxSum[s] = gradApproxSum[s] * Decimal((1.0/num_training))\n",
        "print(\"\\nApproximate derivates (numerical method)\")\n",
        "for s in range(len(gradApproxSum)):\n",
        "    print(\"D_approx^(%s) \" % (s+2))\n",
        "    print(gradApproxSum[s])\n",
        "\n",
        "# Adjust weights using derivate\n",
        "for s in range(len(w)):\n",
        "    w[s] = np.copy(w[s] - alphaRate * D[s])\n",
        "print(\"\\nFinal weights after training\")\n",
        "for s in range(len(w)):\n",
        "    print(\"w^(%s) \" % (s+2))\n",
        "    print(w[s])\n",
        "\n",
        "# Caculate the cost one more time for final weights\n",
        "cost = 0\n",
        "for m in range(num_training):\n",
        "    x = np.array([[float(training_data[m][0])],[float(training_data[m][1])]])\n",
        "    t = np.array([[float(training_data[m][2])]])\n",
        "    z, y = fowardPropagate(x, w, s_l)\n",
        "    cost += calculateSumError(y[-1], t, s_l)\n",
        "cost = cost/num_training\n",
        "costsList.append(cost)\n",
        "\n",
        "print(\"\\nCosts for all epochs\")\n",
        "print(costsList)"
      ],
      "execution_count": null,
      "outputs": [
        {
          "output_type": "stream",
          "text": [
            "Network shape: s_l = [2, 3, 3, 1]\n",
            "Training sets used: 100\n",
            "Alpha rate: 1.0 Lambda rate: 0.0\n",
            "\n",
            "Initial weights\n",
            "w^(2) \n",
            "[[0.76890752 0.61723569 0.29711479]\n",
            " [0.45473856 0.09396039 0.91075803]\n",
            " [0.14828925 0.00549917 0.4469605 ]]\n",
            "w^(3) \n",
            "[[0.09416079 0.1708389  0.42771098 0.69539482]\n",
            " [0.4089891  0.51707435 0.84838957 0.89955105]\n",
            " [0.81014526 0.89925213 0.10174644 0.57163114]]\n",
            "w^(4) \n",
            "[[0.49278337 0.78461041 0.06438325 0.38850874]]\n"
          ],
          "name": "stdout"
        },
        {
          "output_type": "stream",
          "text": [
            "/usr/local/lib/python3.7/dist-packages/numpy/lib/function_base.py:792: VisibleDeprecationWarning: Creating an ndarray from ragged nested sequences (which is a list-or-tuple of lists-or-tuples-or ndarrays with different lengths or shapes) is deprecated. If you meant to do this, you must specify 'dtype=object' when creating the ndarray\n",
            "  return array(a, order=order, subok=subok, copy=True)\n"
          ],
          "name": "stderr"
        },
        {
          "output_type": "stream",
          "text": [
            "\n",
            "Cost derivates\n",
            "D^(2) \n",
            "[[4.85002135e-04 1.24137201e-04 7.86920625e-05]\n",
            " [5.89547668e-04 2.12324010e-04 5.24324299e-05]\n",
            " [1.23256172e-03 4.27562964e-04 2.31061909e-04]]\n",
            "D^(3) \n",
            "[[0.00569741 0.00418193 0.00371457 0.0031902 ]\n",
            " [0.00026738 0.00019498 0.00017075 0.0001478 ]\n",
            " [0.0015997  0.00116895 0.00103929 0.00089414]]\n",
            "D^(4) \n",
            "[[0.03529393 0.02502341 0.03045698 0.03052703]]\n",
            "\n",
            "Approximate derivates (numerical method)\n",
            "D_approx^(2) \n",
            "[[Decimal('0E-59') Decimal('0E-59') Decimal('0E-59')]\n",
            " [Decimal('0E-59') Decimal('0E-59') Decimal('0E-59')]\n",
            " [Decimal('0E-59') Decimal('0E-59') Decimal('0E-59')]]\n",
            "D_approx^(3) \n",
            "[[Decimal('0E-59') Decimal('0E-59') Decimal('0E-59') Decimal('0E-59')]\n",
            " [Decimal('0E-59') Decimal('0E-59') Decimal('0E-59') Decimal('0E-59')]\n",
            " [Decimal('0E-59') Decimal('0E-59') Decimal('0E-59') Decimal('0E-59')]]\n",
            "D_approx^(4) \n",
            "[[Decimal('0E-59') Decimal('0E-59') Decimal('0E-59') Decimal('0E-59')]]\n",
            "\n",
            "Final weights after training\n",
            "w^(2) \n",
            "[[0.76842252 0.61711155 0.2970361 ]\n",
            " [0.45414901 0.09374807 0.9107056 ]\n",
            " [0.14705669 0.0050716  0.44672944]]\n",
            "w^(3) \n",
            "[[0.08846337 0.16665697 0.4239964  0.69220463]\n",
            " [0.40872171 0.51687937 0.84821883 0.89940325]\n",
            " [0.80854556 0.89808318 0.10070715 0.57073699]]\n",
            "w^(4) \n",
            "[[0.45748943 0.759587   0.03392627 0.3579817 ]]\n",
            "\n",
            "Costs for all epochs\n",
            "[0.14792161388952857, 0.14413234153788748]\n"
          ],
          "name": "stdout"
        }
      ]
    },
    {
      "cell_type": "markdown",
      "metadata": {
        "id": "DXj37Cfr31er"
      },
      "source": [
        "### Train network"
      ]
    },
    {
      "cell_type": "code",
      "metadata": {
        "id": "MybmtkiwLASq",
        "colab": {
          "base_uri": "https://localhost:8080/",
          "height": 300
        },
        "outputId": "9655074a-9031-4f16-f785-881e0cf1e331"
      },
      "source": [
        "# Initialize weights and plot initial decision frontier\n",
        "# s_l always needs 2 at beginning and 1 at the end to comply with data format\n",
        "# s_l = [2, 1]\n",
        "s_l = [2, 3, 3, 1]\n",
        "initial_weights = initializeWeights(s_l)\n",
        "w = initial_weights.copy()\n",
        "\n",
        "# Plotando fronteira de decisão\n",
        "x1s = np.linspace(-1,1.5,50)\n",
        "x2s = np.linspace(-1,1.5,50)\n",
        "zs=np.zeros((len(x1s),len(x2s)))\n",
        "\n",
        "for i in range(len(x1s)):\n",
        "    for j in range(len(x2s)):\n",
        "        xs = np.array([[x1s[i]],[x2s[j]]])\n",
        "        zss, yss = fowardPropagate(xs, w, s_l)\n",
        "        zs[i,j] = zss[-1][0,0] # saida do modelo antes de aplicar a função sigmoide \n",
        "plt.contour(x1s,x2s,np.transpose(zs),0)\n",
        "\n",
        "df=pd.read_csv(\"classification2.txt\", header=None)\n",
        "\n",
        "ins=df.iloc[:,:-1].values\n",
        "outs=df.iloc[:,-1].values\n",
        "pos , neg = (outs==1).reshape(118,1) , (outs==0).reshape(118,1)\n",
        "plt.scatter(ins[pos[:,0],0],ins[pos[:,0],1],c=\"r\",marker=\"+\")\n",
        "plt.scatter(ins[neg[:,0],0],ins[neg[:,0],1],marker=\"o\",s=10)\n",
        "plt.xlabel(\"x1\")\n",
        "plt.ylabel(\"x2\")\n",
        "plt.legend([\"Accepted\",\"Rejected\"],loc=0)"
      ],
      "execution_count": null,
      "outputs": [
        {
          "output_type": "execute_result",
          "data": {
            "text/plain": [
              "<matplotlib.legend.Legend at 0x7feee45efe10>"
            ]
          },
          "metadata": {
            "tags": []
          },
          "execution_count": 47
        },
        {
          "output_type": "display_data",
          "data": {
            "image/png": "[encoded data removed]",
            "text/plain": [
              "<Figure size 432x288 with 1 Axes>"
            ]
          },
          "metadata": {
            "tags": [],
            "needs_background": "light"
          }
        }
      ]
    },
    {
      "cell_type": "code",
      "metadata": {
        "colab": {
          "base_uri": "https://localhost:8080/",
          "height": 1000
        },
        "id": "yWA2US_v_QEK",
        "outputId": "4078453e-6eca-4c77-91a9-574475422e9d"
      },
      "source": [
        "num_epochs = 100\n",
        "lambdaRate = 0.0\n",
        "alphaRate = 1.0\n",
        "\n",
        "costsList = []\n",
        "num_training = 100 # Maximum is 118\n",
        "num_validation = len(training_data) - num_training\n",
        "\n",
        "print(\"Network shape: s_l = \", end='')\n",
        "print(s_l)\n",
        "print(\"Training sets used: \" + str(num_training))\n",
        "print(\"Alpha rate: \" + str(alphaRate) + \" Lambda rate: \" + str(lambdaRate))\n",
        "print(\"Training epochs: \" + str(num_epochs), end=\"\\n\\n\")\n",
        "\n",
        "# Actual training starts here\n",
        "print(\"Initial weights\")\n",
        "for s in range(len(w)):\n",
        "    print(\"w^(%s) \" % (s+2))\n",
        "    print(w[s])\n",
        "\n",
        "# Train num_epoch times using the training set\n",
        "for epoch in range(num_epochs):\n",
        "    Delta = initializeDelta(s_l)\n",
        "    cost = 0\n",
        "    for m in range(int(num_validation/2), int(num_training+(num_validation/2))):\n",
        "        x = np.array([[float(training_data[m][0])],[float(training_data[m][1])]])\n",
        "        t = np.array([[float(training_data[m][2])]])\n",
        "        z, y = fowardPropagate(x, w, s_l)\n",
        "        cost += calculateSumError(y[-1], t, s_l)\n",
        "        delta = backPropagateError(t, y, w, s_l) \n",
        "        Delta = updateDelta(x, Delta, y, delta, s_l)\n",
        "    cost = cost/num_training\n",
        "    D = calculateWeightAdjust(Delta, w, s_l, num_training, lambdaRate)\n",
        "    for s in range(len(w)):\n",
        "        w[s] = np.copy(w[s] - alphaRate*D[s])\n",
        "    costsList.append(cost)\n",
        "\n",
        "# Caculate the cost one more time for final epoch\n",
        "cost = 0\n",
        "for m in range(int(num_validation/2), int(num_training+(num_validation/2))):\n",
        "    x = np.array([[float(training_data[m][0])],[float(training_data[m][1])]])\n",
        "    t = np.array([[float(training_data[m][2])]])\n",
        "    z, y = fowardPropagate(x, w, s_l)\n",
        "    cost += calculateSumError(y[-1], t, s_l)\n",
        "cost = cost/num_training\n",
        "costsList.append(cost)\n",
        "\n",
        "print(\"\\nFinal weights after training\")\n",
        "for s in range(len(w)):\n",
        "    print(\"w^(%s) \" % (s+2))\n",
        "    print(w[s])\n",
        "\n",
        "print(\"\\nCosts for all training epochs\")\n",
        "print(costsList)\n",
        "\n",
        "# Validation\n",
        "print(\"Validation test\")\n",
        "hits = 0.0\n",
        "for m in range(int(num_validation/2)):\n",
        "    x = np.array([[float(training_data[m][0])],[float(training_data[m][1])]])\n",
        "    t = np.array([[float(training_data[m][2])]])\n",
        "    z, y = fowardPropagate(x, w, s_l)\n",
        "    if (abs(t[0,0]-y[1][0,0]) <= 0.5):\n",
        "        hits += 1.0\n",
        "    print(\"Training data[\" + str(m) + \"]: Network output: \" + str(y[-1][0,0]) + \" Expected output: \" + str(t[0,0]))\n",
        "for m in range(int(num_training+(num_validation/2)), int(len(training_data))):\n",
        "    x = np.array([[float(training_data[m][0])],[float(training_data[m][1])]])\n",
        "    t = np.array([[float(training_data[m][2])]])\n",
        "    z, y = fowardPropagate(x, w, s_l)\n",
        "    if (abs(t[0,0]-y[1][0,0]) <= 0.5):\n",
        "        hits += 1.0\n",
        "    print(\"Training data[\" + str(m) + \"]: Network output: \" + str(y[-1][0,0]) + \" Expected output: \" + str(t[0,0]))\n",
        "accuracy = hits / num_validation\n",
        "print(\"Model accuracy: \" + str(accuracy))\n",
        "\n",
        "# Plotando fronteira de decisão\n",
        "x1s = np.linspace(-1,1.5,200)\n",
        "x2s = np.linspace(-1,1.5,200)\n",
        "zs=np.zeros((len(x1s),len(x2s)))\n",
        "\n",
        "for i in range(len(x1s)):\n",
        "    for j in range(len(x2s)):\n",
        "        xs = np.array([[x1s[i]],[x2s[j]]])\n",
        "        zss, yss = fowardPropagate(xs, w, s_l)\n",
        "        zs[i,j] = zss[-1][0,0] # saida do modelo antes de aplicar a função sigmoide \n",
        "plt.contour(x1s,x2s,np.transpose(zs),0)\n",
        "\n",
        "df=pd.read_csv(\"classification2.txt\", header=None)\n",
        "\n",
        "ins=df.iloc[:,:-1].values\n",
        "outs=df.iloc[:,-1].values\n",
        "pos , neg = (outs==1).reshape(118,1) , (outs==0).reshape(118,1)\n",
        "plt.scatter(ins[pos[:,0],0],ins[pos[:,0],1],c=\"r\",marker=\"+\")\n",
        "plt.scatter(ins[neg[:,0],0],ins[neg[:,0],1],marker=\"o\",s=10)\n",
        "plt.xlabel(\"x1\")\n",
        "plt.ylabel(\"x2\")\n",
        "plt.legend([\"Accepted\",\"Rejected\"],loc=0)"
      ],
      "execution_count": null,
      "outputs": [
        {
          "output_type": "stream",
          "text": [
            "Network shape: s_l = [2, 3, 3, 1]\n",
            "Training sets used: 100\n",
            "Alpha rate: 1.0 Lambda rate: 0.0\n",
            "Training epochs: 100\n",
            "\n",
            "Initial weights\n",
            "w^(2) \n",
            "[[0.62683569 0.75802    0.46484621]\n",
            " [0.65330586 0.53143872 0.058914  ]\n",
            " [0.20692916 0.51821792 0.78195653]]\n",
            "w^(3) \n",
            "[[ 0.79863793  0.66006281 -0.02730273  0.35212904]\n",
            " [ 0.6894584   0.55156146  0.55914488  0.36325528]\n",
            " [ 0.18035378  0.29482936  0.91732882  0.70016568]]\n",
            "w^(4) \n",
            "[[-0.08870878  0.36470146 -0.12562009 -0.16664884]]\n",
            "\n",
            "Final weights after training\n",
            "w^(2) \n",
            "[[0.62814554 0.75662069 0.46637834]\n",
            " [0.65152295 0.53440482 0.05689446]\n",
            " [0.20637679 0.51853517 0.78133146]]\n",
            "w^(3) \n",
            "[[ 0.8013996   0.6589997  -0.02882721  0.35204467]\n",
            " [ 0.68818462  0.5514592   0.55925014  0.36288534]\n",
            " [ 0.17803473  0.29434282  0.91722418  0.69926472]]\n",
            "w^(4) \n",
            "[[-0.08161129  0.36157076 -0.13104659 -0.17712583]]\n",
            "\n",
            "Costs for all training epochs\n",
            "[0.12494262758382557, 0.12494188634472353, 0.12494139053835132, 0.12494105642778486, 0.12494082884956795, 0.12494067146173993, 0.12494056032094743, 0.12494047965185376, 0.1249404190603606, 0.12494037169778091, 0.12494033305139823, 0.124940300147647, 0.12494027102712335, 0.12494024439867743, 0.12494021941149634, 0.12494019550492486, 0.12494017230950798, 0.12494014958178465, 0.12494012716131862, 0.1249401049423855, 0.12494008285531333, 0.12494006085418909, 0.1249400389087553, 0.12494001699907185, 0.12493999511199735, 0.12493997323887063, 0.12493995137398262, 0.12493992951357001, 0.1249399076551517, 0.1249398857970911, 0.1249398639383085, 0.12493984207809108, 0.12493982021596756, 0.12493979835162632, 0.12493977648486024, 0.12493975461553176, 0.12493973274354865, 0.12493971086884882, 0.1249396889913898, 0.1249396671111424, 0.12493964522808562, 0.12493962334220471, 0.12493960145348815, 0.12493957956192688, 0.12493955766751373, 0.12493953577024251, 0.12493951387010754, 0.12493949196710387, 0.1249394700612265, 0.12493944815247104, 0.12493942624083301, 0.12493940432630786, 0.12493938240889149, 0.12493936048857948, 0.12493933856536751, 0.12493931663925163, 0.1249392947102272, 0.12493927277829027, 0.12493925084343653, 0.12493922890566175, 0.12493920696496169, 0.12493918502133214, 0.12493916307476885, 0.12493914112526766, 0.12493911917282417, 0.12493909721743435, 0.12493907525909387, 0.12493905329779854, 0.12493903133354406, 0.1249390093663263, 0.12493898739614087, 0.12493896542298372, 0.12493894344685039, 0.12493892146773695, 0.12493889948563884, 0.12493887750055206, 0.12493885551247219, 0.12493883352139507, 0.12493881152731642, 0.12493878953023203, 0.12493876753013768, 0.1249387455270292, 0.12493872352090214, 0.12493870151175225, 0.1249386794995755, 0.12493865748436755, 0.12493863546612392, 0.12493861344484065, 0.12493859142051335, 0.12493856939313785, 0.12493854736270985, 0.12493852532922496, 0.12493850329267916, 0.12493848125306801, 0.12493845921038726, 0.12493843716463275, 0.1249384151158001, 0.12493839306388521, 0.12493837100888364, 0.1249383489507912, 0.12493832688960352]\n",
            "Validation test\n",
            "Training data[0]: Network output: 0.48966234941083775 Expected output: 1.0\n",
            "Training data[1]: Network output: 0.4897384414112005 Expected output: 1.0\n",
            "Training data[2]: Network output: 0.4898062992998899 Expected output: 1.0\n",
            "Training data[3]: Network output: 0.489889434987222 Expected output: 1.0\n",
            "Training data[4]: Network output: 0.4899729816361088 Expected output: 1.0\n",
            "Training data[5]: Network output: 0.4899680526252268 Expected output: 1.0\n",
            "Training data[6]: Network output: 0.48987823237419525 Expected output: 1.0\n",
            "Training data[7]: Network output: 0.48980778151358007 Expected output: 1.0\n",
            "Training data[8]: Network output: 0.4896069734765036 Expected output: 1.0\n",
            "Training data[109]: Network output: 0.4900425892059783 Expected output: 0.0\n",
            "Training data[110]: Network output: 0.48998728752307597 Expected output: 0.0\n",
            "Training data[111]: Network output: 0.49009338385118295 Expected output: 0.0\n",
            "Training data[112]: Network output: 0.4901805927698488 Expected output: 0.0\n",
            "Training data[113]: Network output: 0.4901119565633546 Expected output: 0.0\n",
            "Training data[114]: Network output: 0.49002612151054187 Expected output: 0.0\n",
            "Training data[115]: Network output: 0.4899842556219238 Expected output: 0.0\n",
            "Training data[116]: Network output: 0.48971229234739083 Expected output: 0.0\n",
            "Training data[117]: Network output: 0.48933976674567703 Expected output: 0.0\n",
            "Model accuracy: 0.5\n"
          ],
          "name": "stdout"
        },
        {
          "output_type": "execute_result",
          "data": {
            "text/plain": [
              "<matplotlib.legend.Legend at 0x7feee43c9810>"
            ]
          },
          "metadata": {
            "tags": []
          },
          "execution_count": 49
        },
        {
          "output_type": "display_data",
          "data": {
            "image/png": "[encoded data removed]",
            "text/plain": [
              "<Figure size 432x288 with 1 Axes>"
            ]
          },
          "metadata": {
            "tags": [],
            "needs_background": "light"
          }
        }
      ]
    }
  ]
}