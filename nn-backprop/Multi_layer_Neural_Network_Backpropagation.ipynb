{
  "nbformat": 4,
  "nbformat_minor": 0,
  "metadata": {
    "colab": {
      "name": "Multi-layer_Neural_Network_Backpropagation.ipynb",
      "provenance": [],
      "collapsed_sections": [],
      "toc_visible": true
    },
    "kernelspec": {
      "name": "python3",
      "display_name": "Python 3"
    },
    "language_info": {
      "name": "python"
    }
  },
  "cells": [
    {
      "cell_type": "markdown",
      "metadata": {
        "id": "SVMpLxf4Z-3L"
      },
      "source": [
        "# Multi-layer Neural Newtork with Backpropagation\n",
        "### Vinicius Pimenta Bernardo (202002447)\n",
        "### Thiago Werneck Ferreira dos Santos (202003651)"
      ]
    },
    {
      "cell_type": "markdown",
      "metadata": {
        "id": "jc-JvCZGZ8oL"
      },
      "source": [
        "# Import libs"
      ]
    },
    {
      "cell_type": "code",
      "metadata": {
        "id": "Pm1ogXIxZ793"
      },
      "source": [
        "import math\n",
        "import numpy as np\n",
        "import matplotlib.pyplot as plt\n",
        "from typing import List\n",
        "\n",
        "from decimal import *\n",
        "\n",
        "import pandas as pd"
      ],
      "execution_count": 1,
      "outputs": []
    },
    {
      "cell_type": "code",
      "metadata": {
        "id": "aZDmdhJTYq7b"
      },
      "source": [
        "getcontext().prec = 28"
      ],
      "execution_count": null,
      "outputs": []
    },
    {
      "cell_type": "markdown",
      "metadata": {
        "id": "S0qEKaeKuGwH"
      },
      "source": [
        "$L$ is the number of layers, including the input and output layers, and $s_L^{(l)}$ is the number of neurons per layer"
      ]
    },
    {
      "cell_type": "markdown",
      "metadata": {
        "id": "wOlPACq8QzCA"
      },
      "source": [
        "# Upload training set"
      ]
    },
    {
      "cell_type": "code",
      "metadata": {
        "colab": {
          "resources": {
            "http://localhost:8080/nbextensions/google.colab/files.js": {
              "data": "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",
              "ok": true,
              "headers": [
                [
                  "content-type",
                  "application/javascript"
                ]
              ],
              "status": 200,
              "status_text": ""
            }
          },
          "base_uri": "https://localhost:8080/",
          "height": 72
        },
        "id": "deo9G_CJZ-BL",
        "outputId": "c795fe72-fbc7-4217-a3a8-ce7a744e26a1"
      },
      "source": [
        "from google.colab import files\n",
        "uploaded = files.upload()\n",
        "# Upload test_data.txt, needs to be repeated with every new session"
      ],
      "execution_count": 37,
      "outputs": [
        {
          "output_type": "display_data",
          "data": {
            "text/html": [
              "\n",
              "     <input type=\"file\" id=\"files-83a42825-40e2-4943-a5f2-2657d6387cf7\" name=\"files[]\" multiple disabled\n",
              "        style=\"border:none\" />\n",
              "     <output id=\"result-83a42825-40e2-4943-a5f2-2657d6387cf7\">\n",
              "      Upload widget is only available when the cell has been executed in the\n",
              "      current browser session. Please rerun this cell to enable.\n",
              "      </output>\n",
              "      <script src=\"/nbextensions/google.colab/files.js\"></script> "
            ],
            "text/plain": [
              "<IPython.core.display.HTML object>"
            ]
          },
          "metadata": {
            "tags": []
          }
        },
        {
          "output_type": "stream",
          "text": [
            "Saving test_data.txt to test_data.txt\n"
          ],
          "name": "stdout"
        }
      ]
    },
    {
      "cell_type": "code",
      "metadata": {
        "id": "YlB8v4c8aMbI",
        "colab": {
          "base_uri": "https://localhost:8080/"
        },
        "outputId": "66700714-6ac9-4e7d-c1ef-f6c191ae7bb0"
      },
      "source": [
        "file_name = \"test_data.txt\"\n",
        "training_data = uploaded[file_name].decode(\"utf-8\").split(\"\\n\")\n",
        "# Parse data\n",
        "for i in range(len(training_data)):\n",
        "    training_data[i] = training_data[i].split(\",\")\n",
        "print(training_data)\n",
        "print(len(training_data))"
      ],
      "execution_count": 49,
      "outputs": [
        {
          "output_type": "stream",
          "text": [
            "[['-1.0', '-1.0', '0.0'], ['-0.9747474747474747', '-0.9747474747474747', '0.0'], ['-0.9494949494949495', '-0.9494949494949495', '0.0'], ['-0.9242424242424242', '-0.9242424242424242', '0.0'], ['-0.898989898989899', '-0.898989898989899', '0.0'], ['-0.8737373737373737', '-0.8737373737373737', '0.0'], ['-0.8484848484848485', '-0.8484848484848485', '0.0'], ['-0.8232323232323232', '-0.8232323232323232', '0.0'], ['-0.797979797979798', '-0.797979797979798', '0.0'], ['-0.7727272727272727', '-0.7727272727272727', '0.0'], ['-0.7474747474747474', '-0.7474747474747474', '0.0'], ['-0.7222222222222222', '-0.7222222222222222', '0.0'], ['-0.696969696969697', '-0.696969696969697', '0.0'], ['-0.6717171717171717', '-0.6717171717171717', '0.0'], ['-0.6464646464646464', '-0.6464646464646464', '0.0'], ['-0.6212121212121212', '-0.6212121212121212', '0.0'], ['-0.595959595959596', '-0.595959595959596', '0.0'], ['-0.5707070707070707', '-0.5707070707070707', '0.0'], ['-0.5454545454545454', '-0.5454545454545454', '0.0'], ['-0.5202020202020202', '-0.5202020202020202', '0.0'], ['-0.4949494949494949', '-0.4949494949494949', '0.0'], ['-0.4696969696969697', '-0.4696969696969697', '0.0'], ['-0.4444444444444444', '-0.4444444444444444', '0.0'], ['-0.4191919191919192', '-0.4191919191919192', '0.0'], ['-0.3939393939393939', '-0.3939393939393939', '0.0'], ['-0.36868686868686873', '-0.36868686868686873', '0.0'], ['-0.3434343434343434', '-0.3434343434343434', '0.0'], ['-0.31818181818181823', '-0.31818181818181823', '0.0'], ['-0.29292929292929293', '-0.29292929292929293', '0.0'], ['-0.26767676767676774', '-0.26767676767676774', '0.0'], ['-0.24242424242424243', '-0.24242424242424243', '0.0'], ['-0.21717171717171724', '-0.21717171717171724', '0.0'], ['-0.19191919191919193', '-0.19191919191919193', '0.0'], ['-0.16666666666666663', '-0.16666666666666663', '0.0'], ['-0.14141414141414144', '-0.14141414141414144', '0.0'], ['-0.11616161616161613', '-0.11616161616161613', '0.0'], ['-0.09090909090909094', '-0.09090909090909094', '0.0'], ['-0.06565656565656564', '-0.06565656565656564', '0.0'], ['-0.04040404040404044', '-0.04040404040404044', '0.0'], ['-0.015151515151515138', '-0.015151515151515138', '0.0'], ['0.010101010101010166', '0.010101010101010166', '0.0'], ['0.03535353535353525', '0.03535353535353525', '0.0'], ['0.06060606060606055', '0.06060606060606055', '0.0'], ['0.08585858585858586', '0.08585858585858586', '0.0'], ['0.11111111111111116', '0.11111111111111116', '0.0'], ['0.13636363636363624', '0.13636363636363624', '0.0'], ['0.16161616161616155', '0.16161616161616155', '0.0'], ['0.18686868686868685', '0.18686868686868685', '0.0'], ['0.21212121212121215', '0.21212121212121215', '0.0'], ['0.23737373737373746', '0.23737373737373746', '0.0'], ['0.26262626262626254', '0.26262626262626254', '1.0'], ['0.28787878787878785', '0.28787878787878785', '1.0'], ['0.31313131313131315', '0.31313131313131315', '1.0'], ['0.33838383838383845', '0.33838383838383845', '1.0'], ['0.36363636363636354', '0.36363636363636354', '1.0'], ['0.38888888888888884', '0.38888888888888884', '1.0'], ['0.41414141414141414', '0.41414141414141414', '1.0'], ['0.43939393939393945', '0.43939393939393945', '1.0'], ['0.46464646464646453', '0.46464646464646453', '1.0'], ['0.48989898989898983', '0.48989898989898983', '1.0'], ['0.5151515151515151', '0.5151515151515151', '1.0'], ['0.5404040404040404', '0.5404040404040404', '1.0'], ['0.5656565656565655', '0.5656565656565655', '1.0'], ['0.5909090909090908', '0.5909090909090908', '1.0'], ['0.6161616161616161', '0.6161616161616161', '1.0'], ['0.6414141414141414', '0.6414141414141414', '1.0'], ['0.6666666666666667', '0.6666666666666667', '1.0'], ['0.6919191919191918', '0.6919191919191918', '1.0'], ['0.7171717171717171', '0.7171717171717171', '1.0'], ['0.7424242424242424', '0.7424242424242424', '1.0'], ['0.7676767676767677', '0.7676767676767677', '1.0'], ['0.7929292929292928', '0.7929292929292928', '1.0'], ['0.8181818181818181', '0.8181818181818181', '1.0'], ['0.8434343434343434', '0.8434343434343434', '1.0'], ['0.8686868686868687', '0.8686868686868687', '1.0'], ['0.8939393939393938', '0.8939393939393938', '1.0'], ['0.9191919191919191', '0.9191919191919191', '1.0'], ['0.9444444444444444', '0.9444444444444444', '1.0'], ['0.9696969696969697', '0.9696969696969697', '1.0'], ['0.9949494949494948', '0.9949494949494948', '1.0'], ['1.0202020202020203', '1.0202020202020203', '1.0'], ['1.0454545454545454', '1.0454545454545454', '1.0'], ['1.0707070707070705', '1.0707070707070705', '1.0'], ['1.095959595959596', '1.095959595959596', '1.0'], ['1.121212121212121', '1.121212121212121', '1.0'], ['1.1464646464646466', '1.1464646464646466', '1.0'], ['1.1717171717171717', '1.1717171717171717', '1.0'], ['1.1969696969696968', '1.1969696969696968', '1.0'], ['1.2222222222222223', '1.2222222222222223', '1.0'], ['1.2474747474747474', '1.2474747474747474', '1.0'], ['1.2727272727272725', '1.2727272727272725', '1.0'], ['1.297979797979798', '1.297979797979798', '1.0'], ['1.323232323232323', '1.323232323232323', '1.0'], ['1.3484848484848486', '1.3484848484848486', '1.0'], ['1.3737373737373737', '1.3737373737373737', '1.0'], ['1.3989898989898988', '1.3989898989898988', '1.0'], ['1.4242424242424243', '1.4242424242424243', '1.0'], ['1.4494949494949494', '1.4494949494949494', '1.0'], ['1.474747474747475', '1.474747474747475', '1.0'], ['1.5', '1.5', '1.0']]\n",
            "100\n"
          ],
          "name": "stdout"
        }
      ]
    },
    {
      "cell_type": "markdown",
      "metadata": {
        "id": "V5ObSWr0ZcLI"
      },
      "source": [
        "reference for this section:\n",
        "\n",
        "https://buomsoo-kim.github.io/colab/2018/04/15/Colab-Importing-CSV-and-JSON-files-in-Google-Colab.md/"
      ]
    },
    {
      "cell_type": "markdown",
      "metadata": {
        "id": "aKrjEw9xQ3LQ"
      },
      "source": [
        "# Weights initialization"
      ]
    },
    {
      "cell_type": "markdown",
      "metadata": {
        "id": "YhaqysNuNtQj"
      },
      "source": [
        "There is a separate weight matrix for each layer $l \\in L,\\space l>1$ so, there will be a matrx $w^{(L)}, \\space w^{(L-1)}, \\space w^{(L-2)}, \\space ..., w^{(2)}$\n",
        "\n",
        "A matrix $w^{(l)}$ will be used to calculate the activation for that same layer $l$ using the activations from layer $l-1$"
      ]
    },
    {
      "cell_type": "code",
      "metadata": {
        "id": "2hw5ZJPNyLL-"
      },
      "source": [
        "def initializeWeights(layers: List) ->List[np.ndarray]:\n",
        "    \"\"\"\n",
        "    Returns a list of arrays containing random weights\n",
        "    \"\"\"\n",
        "    weights = []\n",
        "    for l in range(1, len(layers)):\n",
        "        weights.append(np.random.rand(layers[l], layers[l-1]+1))\n",
        "    return weights"
      ],
      "execution_count": 27,
      "outputs": []
    },
    {
      "cell_type": "markdown",
      "metadata": {
        "id": "mf_3RCV0ZyoA"
      },
      "source": [
        " # Foward propagation function definition"
      ]
    },
    {
      "cell_type": "markdown",
      "metadata": {
        "id": "OnXB3xoWi3Et"
      },
      "source": [
        "$z^{(l)}_i=\\sum_{j=0}^{s_L^{(l-1)}}w_{ij}^{(l)}y_{j}^{(l-1)}$\n",
        "\n",
        "for a given $i$, $w_{ij}^{(l)}$ is the line ```[i:]``` from the weight matrix of layer $(l)$, $y_j^{(l-1)}$ is the column o activation values of layer $(l-1)$, and $s_L^{(n)}$ is the number of neurons on a given layer $n$\n",
        "\n",
        "$\\begin{pmatrix}\n",
        "  w^{(l)}_{i,0} & w^{(l)}_{i,1} & \\cdots & w^{(l)}_{i,s_L^{(l-1)}}\n",
        "\\end{pmatrix}\n",
        "\\begin{pmatrix}\n",
        "  1\\\\\n",
        "  y_{1}^{(l-1)}\\\\\n",
        "  \\vdots\\\\\n",
        "  y_{s_L^{(l-1)}}^{(l-1)}\n",
        "\\end{pmatrix}=z_i^{(l)}$\n",
        "\n",
        "and the activation $y_i^{(l)}$ is $g(z_i^{(l)})=\\frac{1}{1+e^{z_i^{(l)}}}$"
      ]
    },
    {
      "cell_type": "code",
      "metadata": {
        "id": "jGfqO8d0PJ6b"
      },
      "source": [
        "def transfer(weights: np.ndarray, activations: np.ndarray) ->float:\n",
        "    \"\"\"\n",
        "    Single neuron weighted sum\n",
        "    \"\"\"\n",
        "    transfer = weights[0] # bias weight * 1\n",
        "    transfer += np.matmul(weights[1:], activations)[0]\n",
        "    return transfer\n",
        "\n",
        "def activation(transfer: float) ->float:\n",
        "    \"\"\"\n",
        "    Single neuron activation function\n",
        "    \"\"\"\n",
        "    return (1/(1+math.exp(-transfer)))"
      ],
      "execution_count": 28,
      "outputs": []
    },
    {
      "cell_type": "markdown",
      "metadata": {
        "id": "AhMflICxsKaG"
      },
      "source": [
        "compute $z^{(1)}$ and $y^{(1)}$ using $x^{(m)}$ for one $m$ corresponding to a single training set and then $z^{(l)}$ and $y^{(l)}$ using $y^{(l-1)}$ for $l\\in2...L$"
      ]
    },
    {
      "cell_type": "code",
      "metadata": {
        "id": "3H6sputTe6VJ"
      },
      "source": [
        "def fowardPropagate(inputs: np.ndarray, weights: List[np.ndarray], layers: List) ->(List[np.ndarray], List[np.ndarray]):\n",
        "    \"\"\"Propagate the input throughout the network\n",
        "\n",
        "    The second layer activation is calculated using the inputs, which are the activation of the first layer,\n",
        "    and the remaining layers activation values are calculated using the values from previous layer\n",
        "    @param inputs: A single set of inputs from the training set as a column\n",
        "    @param weights: The network neurons weights\n",
        "    @param layers: List containing number of units per layer\n",
        "    @return neuronsNetSum, neuronsActivation: The propagated transfer and activation values of neurons\n",
        "    \"\"\"\n",
        "    neuronsTransfer = []\n",
        "    neuronsActivation = []\n",
        "    layerTransfer = np.array([[transfer(w[0][i,:], inputs)] for i in range(layers[1])])\n",
        "    layerActivation = np.array([[activation(layerTransfer[i])] for i in range(layers[1])])\n",
        "    neuronsTransfer.append(layerTransfer)\n",
        "    neuronsActivation.append(layerActivation)\n",
        "    \n",
        "    for l in range(2, len(layers)):\n",
        "        layerTransfer = np.array([[transfer(w[l-1][i,:], neuronsActivation[l-2])] for i in range(layers[l])])\n",
        "        layerActivation = np.array([[activation(layerTransfer[i])] for i in range(layers[l])])\n",
        "        neuronsTransfer.append(layerTransfer)\n",
        "        neuronsActivation.append(layerActivation)\n",
        "\n",
        "    return neuronsTransfer, neuronsActivation"
      ],
      "execution_count": 29,
      "outputs": []
    },
    {
      "cell_type": "markdown",
      "metadata": {
        "id": "HYgj98XkDabf"
      },
      "source": [
        "# Error calculation"
      ]
    },
    {
      "cell_type": "markdown",
      "metadata": {
        "id": "FdUQNWVUTDKd"
      },
      "source": [
        "$J(w) = \\frac{1}{2}*\\sum_{i=1}^{s_L^{(L)}}(y_i^{(L)}-t_i)^2$\n",
        "\n",
        "Considering the error function as:\n",
        "\n",
        "$E = \\frac{1}{2}*(y_i^{(L)}-t_i)^2$\n",
        "\n",
        "for a single neuron $i$ on the output layer, and as:\n",
        "\n",
        "$E=\\frac{1}{2n}\\sum_{m=1}^n (y^{(L)}_i-t^{(m)}_i)$\n",
        "\n",
        "for $n$ training examples."
      ]
    },
    {
      "cell_type": "code",
      "metadata": {
        "id": "Urah2l0WDiVG"
      },
      "source": [
        "def calculateSumError(outputs: np.ndarray, expected: np.ndarray, layers: List) ->float:\n",
        "    \"\"\"\n",
        "    Returns the accumulated error J(w) of the last layer\n",
        "    \"\"\"\n",
        "    sumError = 0.0\n",
        "    for i in range(layers[-1]):\n",
        "        sumError += ((outputs[i][0] - expected[i][0]) ** 2) * 0.5\n",
        "    return sumError"
      ],
      "execution_count": 30,
      "outputs": []
    },
    {
      "cell_type": "markdown",
      "metadata": {
        "id": "UaRHvCTIXv3x"
      },
      "source": [
        "# Backpropagatin function definition"
      ]
    },
    {
      "cell_type": "markdown",
      "metadata": {
        "id": "nwmM-ZQafn-Y"
      },
      "source": [
        "Considering the error function as:\n",
        "\n",
        "$E = \\frac{1}{2}*(y_i^{(L)}-t_i)^2$\n",
        "\n",
        "for a single neuron $i$ on the output layer.\n",
        "\n",
        "The derivative of the error is:\n",
        "\n",
        "$\\frac{\\delta E}{\\delta w^{(l)}_{ij}} = \\frac{\\delta E}{\\delta y^{(l)}_i}\\frac{\\delta y^{(l)}_i}{\\delta z^{(l)}_i}\\frac{\\delta z^{(l)}_i}{\\delta w^{(l)}_{ij}}=\\frac{\\delta E}{\\delta y^{(l)}_i}\\frac{\\delta y^{(l)}_i}{\\delta z^{(l)}_i}y^{(l-1)}_j=\\delta^{(l)}_iy^{(l-1)}_j$\n",
        "\n",
        "$\\frac{\\delta y_i^{(l)}}{\\delta z_i^{(l)}} = y_i^{(l)}(1-y_i^{(l)})$ when $y_i^{(l)}$ is $g(z_i^{(l)})=\\frac{1}{1+e^{-z_i^{(l)}}}$\n",
        "\n",
        "$\\delta^{(l)}_j=\\frac{\\delta E}{\\delta y^{(l)}_j}\\frac{\\delta y^{(l)}_j}{\\delta z^{(l)}_j}=\\begin{cases}(y^{(l)}_j-t_j)y^{(l)}_j(1-y^{(l)}_j), \\space l=L \\\\ (\\sum_{i=1}^{s_L^{(l+1)}}w_{ij}^{(l+1)}\\delta_{i}^{(l+1)})y^{(l)}_j(1-y^{(l)}_j), \\space l<L\\end{cases}$"
      ]
    },
    {
      "cell_type": "code",
      "metadata": {
        "id": "xl4F7CpyXtTt"
      },
      "source": [
        "def activationDerivate(activation: float) ->float:\n",
        "    \"\"\"\n",
        "    Single neuron activation derivate function\n",
        "    \"\"\"\n",
        "    return activation*(1.0 - activation)"
      ],
      "execution_count": 31,
      "outputs": []
    },
    {
      "cell_type": "code",
      "metadata": {
        "id": "a2FS3W9mRgVV"
      },
      "source": [
        "def backPropagateError(outputs: np.ndarray, activations: List[np.ndarray], weights: List[np.ndarray], layers: List) ->List[np.ndarray]:\n",
        "    \"\"\"Backpropagate the error throughout the network\n",
        "\n",
        "    The last layer error is calculated using the expected outputs from the training examples,\n",
        "    and the remaining layers error values are calculated using the values from upfront layer\n",
        "    @param outputs: A single set of outputs from the training set as a column\n",
        "    @param activation: Calculated using the foward propagation\n",
        "    @param weights: The network neurons weights\n",
        "    @param layers: List containing number of units per layer\n",
        "    @return neuronsErrorDerivatives: The backpropagated error values of neurons\n",
        "    \"\"\"\n",
        "    neuronsErrorDerivatives = []\n",
        "    layerErrorDerivative = np.array([[((activations[len(layers)-2][i,0] - outputs[i,0])*activationDerivate(activations[len(layers)-2][i,0]))] for i in range(layers[len(layers)-1])])\n",
        "    neuronsErrorDerivatives.append(layerErrorDerivative)\n",
        "\n",
        "    for l in reversed(range(1, len(layers)-1)):\n",
        "        layerErrorDerivative = np.matmul(np.transpose(weights[l][:,1:]), neuronsErrorDerivatives[0])*activationDerivate(activations[l-1])\n",
        "        neuronsErrorDerivatives.insert(0, layerErrorDerivative)\n",
        "\n",
        "    return neuronsErrorDerivatives"
      ],
      "execution_count": 32,
      "outputs": []
    },
    {
      "cell_type": "markdown",
      "metadata": {
        "id": "bsIhyhnR0pw9"
      },
      "source": [
        "# Update weights"
      ]
    },
    {
      "cell_type": "markdown",
      "metadata": {
        "id": "XskazuECS_S7"
      },
      "source": [
        "$\\Delta^{(l)}_{ij} = \\Delta^{(l)}_{ij}+y^{(l-1)}_j \\delta^{(l)}_i$"
      ]
    },
    {
      "cell_type": "code",
      "metadata": {
        "id": "KlN5vnDp4Jwx"
      },
      "source": [
        "def initializeDelta(layers: List) ->List[np.ndarray]:\n",
        "    \"\"\"\n",
        "    Returns a list of arrays containing zeros\n",
        "    \"\"\"\n",
        "    Delta = []\n",
        "    for l in range(1, len(layers)):\n",
        "        Delta.append(np.zeros((layers[l], layers[l-1]+1)))\n",
        "    return Delta\n",
        "\n",
        "def updateDelta(inputs: np.ndarray, Delta: List[np.ndarray], activations: List[np.ndarray], delta: List[np.ndarray], layers: List) ->List[np.ndarray]:\n",
        "    \"\"\"\n",
        "    Returns the updated value of Delta using delta and activation values\n",
        "    \"\"\"\n",
        "    updatedDelta = []\n",
        "    updatedDelta.append(Delta[0] + np.matmul(delta[0], np.array([np.append(np.array([[1]]), inputs)]) ) )\n",
        "    for l in range(2, len(layers)):\n",
        "        updatedDelta.append(Delta[l-1] + np.matmul(delta[l-1], np.array([np.append(np.array([[1]]), activations[l-2])]) ) )\n",
        "    return updatedDelta"
      ],
      "execution_count": 33,
      "outputs": []
    },
    {
      "cell_type": "markdown",
      "metadata": {
        "id": "LriHK922lORh"
      },
      "source": [
        "$D^{(l)}_{ij} = \\frac{1}{m}\\Delta^{(l)}_{ij}+\\lambda w^{(l)}_{ij}$ for $j\\neq 0$\n",
        "\n",
        "and\n",
        "\n",
        "$D^{(l)}_{ij} = \\frac{1}{m}\\Delta^{(l)}_{ij}$ for $j=0$"
      ]
    },
    {
      "cell_type": "code",
      "metadata": {
        "id": "BFg40anQdWEx"
      },
      "source": [
        "def regRateMatrix(regRate: float, layers: List) ->List[np.array]:\n",
        "    \"\"\"\n",
        "    Returns the regularization matrix with the first columns being 0.0 and lambda for the rest\n",
        "    \"\"\"\n",
        "    regRates = []\n",
        "    for l in range(1, len(layers)):\n",
        "        line = np.append(np.array([0.0]), np.linspace(regRate, regRate, layers[l-1]))\n",
        "        grid = np.array([line])\n",
        "        for _ in range(1, layers[l]):\n",
        "            grid = np.append(grid, [line], axis=0)\n",
        "        regRates.append(grid)\n",
        "\n",
        "    return regRates\n",
        "\n",
        "def calculateWeightAdjust(Delta: List[np.ndarray], weights: List[np.ndarray], layers: List, num_examples: float, regRate: float=0.0) ->List[np.ndarray]:\n",
        "    \"\"\"\n",
        "    Returns matrixes containing the cost derivate for each weight\n",
        "    \"\"\"\n",
        "    weightsAdjust = []\n",
        "    regRates = regRateMatrix(regRate, layers)\n",
        "    for l in range(1, len(layers)):\n",
        "        layerWeightAdjust = Delta[l-1]*(1.0/num_examples) + weights[l-1]*regRates[l-1]\n",
        "        weightsAdjust.append(layerWeightAdjust)\n",
        "    \n",
        "    return weightsAdjust"
      ],
      "execution_count": 34,
      "outputs": []
    },
    {
      "cell_type": "markdown",
      "metadata": {
        "id": "aGkDU-G59PPB"
      },
      "source": [
        "# Approximate gradient"
      ]
    },
    {
      "cell_type": "markdown",
      "metadata": {
        "id": "bws2fCLUtbj-"
      },
      "source": [
        "Same functions as before but using Decimal type instead of float (still did not solve problem)."
      ]
    },
    {
      "cell_type": "code",
      "metadata": {
        "id": "WMTNFym_9Tag"
      },
      "source": [
        "def initializeGradApprox(layers: List) ->List[np.ndarray]:\n",
        "    \"\"\"\n",
        "    Returns a list of arrays containing zeros\n",
        "    \"\"\"\n",
        "    gradApprox = []\n",
        "    for l in range(1, len(layers)):\n",
        "        gradApprox.append(np.zeros((layers[l], layers[l-1]+1), dtype=Decimal))\n",
        "    return gradApprox\n",
        "\n",
        "def transferNumerical(weights: np.ndarray, activations: np.ndarray) ->Decimal:\n",
        "    \"\"\"\n",
        "    Single neuron weighted sum\n",
        "    \"\"\"\n",
        "    transfer = Decimal(weights[0]) # bias weight * 1\n",
        "    transfer += Decimal(np.matmul(weights[1:], activations)[0])\n",
        "    return transfer\n",
        "\n",
        "def activationNumerical(transfer: Decimal) ->Decimal:\n",
        "    \"\"\"\n",
        "    Single neuron activation function\n",
        "    \"\"\"\n",
        "    return (Decimal(1.0)/Decimal((1.0+math.exp(-transfer))))\n",
        "\n",
        "def calculateSumErrorNumerical(outputs: np.ndarray, expected: np.ndarray, layers: List) ->Decimal:\n",
        "    sumError = Decimal(0.0)\n",
        "    for i in range(layers[-1]):\n",
        "        sumError += Decimal(((outputs[i][0] - expected[i][0]) ** 2)) * Decimal(0.5)\n",
        "    return sumError\n",
        "\n",
        "def activationDerivateNumerical(activation: float) ->Decimal:\n",
        "    \"\"\"\n",
        "    Single neuron activation derivate function\n",
        "    \"\"\"\n",
        "    return Decimal(activation)*(Decimal(1.0 - activation))\n",
        "\n",
        "def fowardPropagateNumerical(inputs: np.ndarray, weights: List[np.ndarray], layers: List) ->(List[np.ndarray], List[np.ndarray]):\n",
        "    \"\"\"Propagate the input throughout the network with Decimal instead of float\n",
        "\n",
        "    The second layer activation is calculated using the inputs, which are the activation of the first layer,\n",
        "    and the remaining layers activation values are calculated using the values from previous layer\n",
        "    @param inputs: A single set of inputs from the training set as a column\n",
        "    @param weights: The network neurons weights\n",
        "    @param layers: List containing number of units per layer\n",
        "    @return neuronsNetSum, neuronsActivation: The propagated transfer and activation values of neurons\n",
        "    \"\"\"\n",
        "    neuronsTransfer = []\n",
        "    neuronsActivation = []\n",
        "    layerTransfer = np.array([[transfer(w[0][i,:], inputs)] for i in range(layers[1])], dtype=Decimal)\n",
        "    layerActivation = np.array([[activation(layerTransfer[i])] for i in range(layers[1])], dtype=Decimal)\n",
        "    neuronsTransfer.append(layerTransfer)\n",
        "    neuronsActivation.append(layerActivation)\n",
        "    \n",
        "    for l in range(2, len(layers)):\n",
        "        layerTransfer = np.array([[transfer(w[l-1][i,:], neuronsActivation[l-2])] for i in range(layers[l])], dtype=Decimal)\n",
        "        layerActivation = np.array([[activation(layerTransfer[i])] for i in range(layers[l])], dtype=Decimal)\n",
        "        neuronsTransfer.append(layerTransfer)\n",
        "        neuronsActivation.append(layerActivation)\n",
        "\n",
        "    return neuronsTransfer, neuronsActivation\n",
        "\n",
        "def calculateGradApprox(weights: List[np.ndarray], inputs: np.ndarray, expected: np.ndarray, layers: List) ->List[np.ndarray]:\n",
        "    epsilon = 0.00001\n",
        "    gradApprox = []\n",
        "    for l in range(1, len(layers)):\n",
        "        layer_weights = np.zeros((layers[l], layers[l-1]+1), dtype=Decimal)\n",
        "        for i in range(0, layers[l]):\n",
        "            for j in range(0, layers[l-1]+1):\n",
        "                w_plus = np.copy(weights)\n",
        "                w_minus = np.copy(weights)\n",
        "                w_plus[l-1][i,j] += epsilon\n",
        "                w_minus[l-1][i,j] -= epsilon\n",
        "                z_plus, y_plus = fowardPropagateNumerical(inputs, w_plus, layers)\n",
        "                sumError_plus = calculateSumErrorNumerical(y_plus[-1], expected, layers)\n",
        "                z_minus, y_minus = fowardPropagateNumerical(inputs, w_minus, layers)\n",
        "                sumError_minus = calculateSumErrorNumerical(y_minus[-1], expected, layers)\n",
        "                dJ_dwij = (Decimal(sumError_plus) - Decimal(sumError_minus)) / Decimal((2.0 * epsilon))\n",
        "                layer_weights[i, j] += dJ_dwij\n",
        "        gradApprox.append(layer_weights)\n",
        "    return gradApprox"
      ],
      "execution_count": 35,
      "outputs": []
    },
    {
      "cell_type": "markdown",
      "metadata": {
        "id": "XwuzDWktDDmv"
      },
      "source": [
        "# Run training"
      ]
    },
    {
      "cell_type": "markdown",
      "metadata": {
        "id": "q1KvQ4iVqaWA"
      },
      "source": [
        "### Compare numerical and standard gradient"
      ]
    },
    {
      "cell_type": "code",
      "metadata": {
        "colab": {
          "base_uri": "https://localhost:8080/"
        },
        "id": "h-vGbGdT5zAt",
        "outputId": "29f2641d-b7cc-408a-9c83-99b8898b4795"
      },
      "source": [
        "######################################################################\n",
        "# Run one epoch to compare numerical gradient with calculated derivate\n",
        "######################################################################\n",
        "# s_l always needs 2 at beginning and 1 at the end to comply with data format\n",
        "# s_l = [2, 1]\n",
        "s_l = [2, 3, 3, 1]\n",
        "initial_weights = initializeWeights(s_l)\n",
        "w = initial_weights.copy()\n",
        "lambdaRate = 0.0\n",
        "alphaRate = 1.0\n",
        "costsList = []\n",
        "\n",
        "num_training = len(training_data)\n",
        "# num_training = 100\n",
        "\n",
        "print(\"Network shape: s_l = \", end='')\n",
        "print(s_l)\n",
        "print(\"Training sets used: \" + str(num_training))\n",
        "print(\"Alpha rate: \" + str(alphaRate) + \" Lambda rate: \" + str(lambdaRate))\n",
        "print(\"\")\n",
        "\n",
        "print(\"Initial weights\")\n",
        "for s in range(len(w)):\n",
        "    print(\"w^(%s) \" % (s+2))\n",
        "    print(w[s])\n",
        "\n",
        "# Init stuff with 0\n",
        "Delta = initializeDelta(s_l)\n",
        "gradApproxSum = initializeGradApprox(s_l)\n",
        "cost = 0\n",
        "# Run one epoch\n",
        "for m in range(num_training):\n",
        "    x = np.array([[float(training_data[m][0])],[float(training_data[m][1])]])\n",
        "    t = np.array([[float(training_data[m][2])]])\n",
        "    z, y = fowardPropagate(x, w, s_l)\n",
        "    cost += calculateSumError(y[-1], t, s_l)\n",
        "    delta = backPropagateError(t, y, w, s_l) \n",
        "    Delta = updateDelta(x, Delta, y, delta, s_l)\n",
        "    gradApprox = calculateGradApprox(w, x, t, s_l)\n",
        "    for s in range(len(gradApprox)):\n",
        "        gradApproxSum[s] = gradApproxSum[s] + gradApprox[s]\n",
        "cost = cost/num_training\n",
        "costsList.append(cost)\n",
        "D = calculateWeightAdjust(Delta, w, s_l, num_training, lambdaRate)\n",
        "\n",
        "# Print both derivates (calculated and numerical)\n",
        "print(\"\\nCost derivates\")\n",
        "for s in range(len(D)):\n",
        "    print(\"D^(%s) \" % (s+2))\n",
        "    print(D[s])\n",
        "for s in range(len(gradApproxSum)):\n",
        "    gradApproxSum[s] = gradApproxSum[s] * Decimal((1.0/num_training))\n",
        "print(\"\\nApproximate derivates (numerical method)\")\n",
        "for s in range(len(gradApproxSum)):\n",
        "    print(\"D_approx^(%s) \" % (s+2))\n",
        "    print(gradApproxSum[s])\n",
        "\n",
        "# Adjust weights using derivate\n",
        "for s in range(len(w)):\n",
        "    w[s] = np.copy(w[s] - alphaRate * D[s])\n",
        "print(\"\\nFinal weights after training\")\n",
        "for s in range(len(w)):\n",
        "    print(\"w^(%s) \" % (s+2))\n",
        "    print(w[s])\n",
        "\n",
        "# Caculate the cost one more time for final weights\n",
        "cost = 0\n",
        "for m in range(num_training):\n",
        "    x = np.array([[float(training_data[m][0])],[float(training_data[m][1])]])\n",
        "    t = np.array([[float(training_data[m][2])]])\n",
        "    z, y = fowardPropagate(x, w, s_l)\n",
        "    cost += calculateSumError(y[-1], t, s_l)\n",
        "cost = cost/num_training\n",
        "costsList.append(cost)\n",
        "\n",
        "print(\"\\nCosts for all epochs\")\n",
        "print(costsList)"
      ],
      "execution_count": 52,
      "outputs": [
        {
          "output_type": "stream",
          "text": [
            "Network shape: s_l = [2, 3, 3, 1]\n",
            "Training sets used: 100\n",
            "Alpha rate: 1.0 Lambda rate: 0.0\n",
            "\n",
            "Initial weights\n",
            "w^(2) \n",
            "[[0.60624675 0.72314269 0.14342055]\n",
            " [0.57784535 0.0505162  0.93774799]\n",
            " [0.93425864 0.46592751 0.88521617]]\n",
            "w^(3) \n",
            "[[0.57113819 0.97719776 0.23094991 0.31881499]\n",
            " [0.50958634 0.83900372 0.25831886 0.0358421 ]\n",
            " [0.58089538 0.50763607 0.65000069 0.25756519]]\n",
            "w^(4) \n",
            "[[0.89074905 0.87952098 0.28830346 0.00090785]]\n"
          ],
          "name": "stdout"
        },
        {
          "output_type": "stream",
          "text": [
            "/usr/local/lib/python3.7/dist-packages/numpy/lib/function_base.py:792: VisibleDeprecationWarning: Creating an ndarray from ragged nested sequences (which is a list-or-tuple of lists-or-tuples-or ndarrays with different lengths or shapes) is deprecated. If you meant to do this, you must specify 'dtype=object' when creating the ndarray\n",
            "  return array(a, order=order, subok=subok, copy=True)\n"
          ],
          "name": "stderr"
        },
        {
          "output_type": "stream",
          "text": [
            "\n",
            "Cost derivates\n",
            "D^(2) \n",
            "[[ 0.00202524 -0.00108029 -0.00108029]\n",
            " [ 0.00051762 -0.00027145 -0.00027145]\n",
            " [ 0.000509   -0.00026024 -0.00026024]]\n",
            "D^(3) \n",
            "[[6.22111314e-03 3.29671904e-03 3.15167092e-03 3.41357878e-03]\n",
            " [2.37477996e-03 1.25666950e-03 1.20117566e-03 1.30241241e-03]\n",
            " [6.65390939e-06 3.52533398e-06 3.37015459e-06 3.65096478e-06]]\n",
            "D^(4) \n",
            "[[0.04399095 0.03513973 0.03302529 0.03470487]]\n",
            "\n",
            "Approximate derivates (numerical method)\n",
            "D_approx^(2) \n",
            "[[Decimal('0E-59') Decimal('0E-59') Decimal('0E-59')]\n",
            " [Decimal('0E-59') Decimal('0E-59') Decimal('0E-59')]\n",
            " [Decimal('0E-59') Decimal('0E-59') Decimal('0E-59')]]\n",
            "D_approx^(3) \n",
            "[[Decimal('0E-59') Decimal('0E-59') Decimal('0E-59') Decimal('0E-59')]\n",
            " [Decimal('0E-59') Decimal('0E-59') Decimal('0E-59') Decimal('0E-59')]\n",
            " [Decimal('0E-59') Decimal('0E-59') Decimal('0E-59') Decimal('0E-59')]]\n",
            "D_approx^(4) \n",
            "[[Decimal('0E-59') Decimal('0E-59') Decimal('0E-59') Decimal('0E-59')]]\n",
            "\n",
            "Final weights after training\n",
            "w^(2) \n",
            "[[0.6042215  0.72422298 0.14450085]\n",
            " [0.57732773 0.05078764 0.93801944]\n",
            " [0.93374964 0.46618774 0.8854764 ]]\n",
            "w^(3) \n",
            "[[0.56491708 0.97390104 0.22779824 0.31540141]\n",
            " [0.50721156 0.83774705 0.25711768 0.03453969]\n",
            " [0.58088873 0.50763254 0.64999732 0.25756154]]\n",
            "w^(4) \n",
            "[[ 0.8467581   0.84438125  0.25527817 -0.03379702]]\n",
            "\n",
            "Costs for all epochs\n",
            "[0.1895693003780664, 0.18389108504200885]\n"
          ],
          "name": "stdout"
        }
      ]
    },
    {
      "cell_type": "markdown",
      "metadata": {
        "id": "DXj37Cfr31er"
      },
      "source": [
        "### Train network"
      ]
    },
    {
      "cell_type": "code",
      "metadata": {
        "id": "MybmtkiwLASq",
        "colab": {
          "base_uri": "https://localhost:8080/",
          "height": 300
        },
        "outputId": "c00445d6-c082-46ec-9f34-99b2000b7db2"
      },
      "source": [
        "# Initialize weights and plot initial decision frontier\n",
        "# s_l always needs 2 at beginning and 1 at the end to comply with data format\n",
        "# s_l = [2, 1]\n",
        "s_l = [2, 3, 3, 1]\n",
        "initial_weights = initializeWeights(s_l)\n",
        "w = initial_weights.copy()\n",
        "\n",
        "# Plotando fronteira de decisão\n",
        "x1s = np.linspace(-1,1.5,50)\n",
        "x2s = np.linspace(-1,1.5,50)\n",
        "zs=np.zeros((len(x1s),len(x2s)))\n",
        "\n",
        "for i in range(len(x1s)):\n",
        "    for j in range(len(x2s)):\n",
        "        xs = np.array([[x1s[i]],[x2s[j]]])\n",
        "        zss, yss = fowardPropagate(xs, w, s_l)\n",
        "        zs[i,j] = zss[-1][0,0] # saida do modelo antes de aplicar a função sigmoide \n",
        "plt.contour(x1s,x2s,np.transpose(zs),0)\n",
        "\n",
        "df=pd.read_csv(\"test_data.txt\", header=None)\n",
        "\n",
        "ins=df.iloc[:,:-1].values\n",
        "outs=df.iloc[:,-1].values\n",
        "pos , neg = (outs==1).reshape(100,1) , (outs==0).reshape(100,1)\n",
        "plt.scatter(ins[pos[:,0],0],ins[pos[:,0],1],c=\"r\",marker=\"+\")\n",
        "plt.scatter(ins[neg[:,0],0],ins[neg[:,0],1],marker=\"o\",s=10)\n",
        "plt.xlabel(\"x1\")\n",
        "plt.ylabel(\"x2\")\n",
        "plt.legend([\"Accepted\",\"Rejected\"],loc=0)"
      ],
      "execution_count": 50,
      "outputs": [
        {
          "output_type": "execute_result",
          "data": {
            "text/plain": [
              "<matplotlib.legend.Legend at 0x7fe4232d8e10>"
            ]
          },
          "metadata": {
            "tags": []
          },
          "execution_count": 50
        },
        {
          "output_type": "display_data",
          "data": {
            "image/png": "[encoded data removed]",
            "text/plain": [
              "<Figure size 432x288 with 1 Axes>"
            ]
          },
          "metadata": {
            "tags": [],
            "needs_background": "light"
          }
        }
      ]
    },
    {
      "cell_type": "code",
      "metadata": {
        "colab": {
          "base_uri": "https://localhost:8080/",
          "height": 1000
        },
        "id": "yWA2US_v_QEK",
        "outputId": "3271164b-5ff9-4bfa-f7e6-1d03c80d3c9d"
      },
      "source": [
        "num_epochs = 1000\n",
        "lambdaRate = 0.0\n",
        "alphaRate = 1.0\n",
        "\n",
        "costsList = []\n",
        "num_training = 90 # Maximum is 118\n",
        "num_validation = len(training_data) - num_training\n",
        "\n",
        "print(\"Network shape: s_l = \", end='')\n",
        "print(s_l)\n",
        "print(\"Training sets used: \" + str(num_training))\n",
        "print(\"Alpha rate: \" + str(alphaRate) + \" Lambda rate: \" + str(lambdaRate))\n",
        "print(\"Training epochs: \" + str(num_epochs), end=\"\\n\\n\")\n",
        "\n",
        "# Actual training starts here\n",
        "print(\"Initial weights\")\n",
        "for s in range(len(w)):\n",
        "    print(\"w^(%s) \" % (s+2))\n",
        "    print(w[s])\n",
        "\n",
        "# Train num_epoch times using the training set\n",
        "for epoch in range(num_epochs):\n",
        "    Delta = initializeDelta(s_l)\n",
        "    cost = 0\n",
        "    for m in range(int(num_validation/2), int(num_training+(num_validation/2))):\n",
        "        x = np.array([[float(training_data[m][0])],[float(training_data[m][1])]])\n",
        "        t = np.array([[float(training_data[m][2])]])\n",
        "        z, y = fowardPropagate(x, w, s_l)\n",
        "        cost += calculateSumError(y[-1], t, s_l)\n",
        "        delta = backPropagateError(t, y, w, s_l) \n",
        "        Delta = updateDelta(x, Delta, y, delta, s_l)\n",
        "    cost = cost/num_training\n",
        "    D = calculateWeightAdjust(Delta, w, s_l, num_training, lambdaRate)\n",
        "    for s in range(len(w)):\n",
        "        w[s] = np.copy(w[s] - alphaRate*D[s])\n",
        "    costsList.append(cost)\n",
        "\n",
        "# Caculate the cost one more time for final epoch\n",
        "cost = 0\n",
        "for m in range(int(num_validation/2), int(num_training+(num_validation/2))):\n",
        "    x = np.array([[float(training_data[m][0])],[float(training_data[m][1])]])\n",
        "    t = np.array([[float(training_data[m][2])]])\n",
        "    z, y = fowardPropagate(x, w, s_l)\n",
        "    cost += calculateSumError(y[-1], t, s_l)\n",
        "cost = cost/num_training\n",
        "costsList.append(cost)\n",
        "\n",
        "print(\"\\nFinal weights after training\")\n",
        "for s in range(len(w)):\n",
        "    print(\"w^(%s) \" % (s+2))\n",
        "    print(w[s])\n",
        "\n",
        "print(\"\\nCosts for all training epochs\")\n",
        "print(costsList)\n",
        "\n",
        "# Validation\n",
        "print(\"Validation test\")\n",
        "hits = 0.0\n",
        "for m in range(int(num_validation/2)):\n",
        "    x = np.array([[float(training_data[m][0])],[float(training_data[m][1])]])\n",
        "    t = np.array([[float(training_data[m][2])]])\n",
        "    z, y = fowardPropagate(x, w, s_l)\n",
        "    if (abs(t[0,0]-y[1][0,0]) <= 0.5):\n",
        "        hits += 1.0\n",
        "    print(\"Training data[\" + str(m) + \"]: Network output: \" + str(y[-1][0,0]) + \" Expected output: \" + str(t[0,0]))\n",
        "for m in range(int(num_training+(num_validation/2)), int(len(training_data))):\n",
        "    x = np.array([[float(training_data[m][0])],[float(training_data[m][1])]])\n",
        "    t = np.array([[float(training_data[m][2])]])\n",
        "    z, y = fowardPropagate(x, w, s_l)\n",
        "    if (abs(t[0,0]-y[1][0,0]) <= 0.5):\n",
        "        hits += 1.0\n",
        "    print(\"Training data[\" + str(m) + \"]: Network output: \" + str(y[-1][0,0]) + \" Expected output: \" + str(t[0,0]))\n",
        "accuracy = hits / num_validation\n",
        "print(\"Model accuracy: \" + str(accuracy))\n",
        "\n",
        "# Plotando fronteira de decisão\n",
        "x1s = np.linspace(-1,1.5,200)\n",
        "x2s = np.linspace(-1,1.5,200)\n",
        "zs=np.zeros((len(x1s),len(x2s)))\n",
        "\n",
        "for i in range(len(x1s)):\n",
        "    for j in range(len(x2s)):\n",
        "        xs = np.array([[x1s[i]],[x2s[j]]])\n",
        "        zss, yss = fowardPropagate(xs, w, s_l)\n",
        "        zs[i,j] = zss[-1][0,0] # saida do modelo antes de aplicar a função sigmoide \n",
        "plt.contour(x1s,x2s,np.transpose(zs),0)\n",
        "\n",
        "df=pd.read_csv(\"test_data.txt\", header=None)\n",
        "\n",
        "ins=df.iloc[:,:-1].values\n",
        "outs=df.iloc[:,-1].values\n",
        "pos , neg = (outs==1).reshape(100,1) , (outs==0).reshape(100,1)\n",
        "plt.scatter(ins[pos[:,0],0],ins[pos[:,0],1],c=\"r\",marker=\"+\")\n",
        "plt.scatter(ins[neg[:,0],0],ins[neg[:,0],1],marker=\"o\",s=10)\n",
        "plt.xlabel(\"x1\")\n",
        "plt.ylabel(\"x2\")\n",
        "plt.legend([\"Accepted\",\"Rejected\"],loc=0)"
      ],
      "execution_count": 51,
      "outputs": [
        {
          "output_type": "stream",
          "text": [
            "Network shape: s_l = [2, 3, 3, 1]\n",
            "Training sets used: 90\n",
            "Alpha rate: 1.0 Lambda rate: 0.0\n",
            "Training epochs: 1000\n",
            "\n",
            "Initial weights\n",
            "w^(2) \n",
            "[[0.35541508 0.26051051 0.79114499]\n",
            " [0.99656736 0.92906458 0.83511097]\n",
            " [0.76897662 0.93948707 0.9292253 ]]\n",
            "w^(3) \n",
            "[[0.24438415 0.47181082 0.45869615 0.33296978]\n",
            " [0.41614683 0.26456823 0.15291138 0.59952538]\n",
            " [0.448234   0.94439423 0.55685187 0.25302491]]\n",
            "w^(4) \n",
            "[[0.49328256 0.99358947 0.04218811 0.32065188]]\n",
            "\n",
            "Final weights after training\n",
            "w^(2) \n",
            "[[-1.15755676  1.79410094  2.32473541]\n",
            " [-0.9958215   2.08012724  1.98617363]\n",
            " [-0.92605911  1.93619356  1.92593179]]\n",
            "w^(3) \n",
            "[[-3.43581984  2.48624918  2.27713677  2.22022885]\n",
            " [ 0.85352673 -0.61175618 -0.71468004 -0.27773607]\n",
            " [-0.48345551  1.1926306   0.75425502  0.44618245]]\n",
            "w^(4) \n",
            "[[-2.74910246  5.73359148 -1.57911087  1.10785367]]\n",
            "\n",
            "Costs for all training epochs\n",
            "[0.1738517463964366, 0.16730201556657767, 0.16066732612325504, 0.1541933300369679, 0.1481430645957081, 0.142748088562111, 0.13816228697121757, 0.13443828498416682, 0.13153484729733433, 0.12934691807967177, 0.12774150956508493, 0.12658614165069046, 0.12576515138660269, 0.12518563062969396, 0.12477696470557957, 0.1244874539054991, 0.12428019966456583, 0.12412932202036386, 0.12401688451422604, 0.1239305573429208, 0.12386191233929085, 0.12380521061375112, 0.12375655487379428, 0.12371330330701064, 0.12367366735313899, 0.12363643708023875, 0.12360079434234215, 0.12356618597105162, 0.12353223786046516, 0.12349869683037482, 0.12346539132223253, 0.12343220484543585, 0.1233990580472385, 0.12336589661082328, 0.12333268308998582, 0.12329939140156382, 0.12326600311152972, 0.1232325049311981, 0.12319888702961977, 0.12316514189632317, 0.12313126357505985, 0.1230972471475922, 0.1230630883859612, 0.12302878351824899, 0.12299432907077797, 0.12295972176177382, 0.12292495842967095, 0.12289003598472747, 0.12285495137632171, 0.12281970157079256, 0.12278428353636692, 0.1227486942328472, 0.12271293060449566, 0.12267698957506136, 0.1226408680442443, 0.12260456288511874, 0.12256807094219958, 0.12253138902993466, 0.12249451393147973, 0.12245744239766054, 0.12242017114605616, 0.12238269686016008, 0.12234501618859092, 0.12230712574433222, 0.12226902210398917, 0.122230701807053, 0.1221921613551667, 0.1221533972113895, 0.12211440579945622, 0.12207518350303016, 0.12203572666494789, 0.12199603158645583, 0.1219560945264379, 0.1219159117006321, 0.12187547928083864, 0.12183479339411658, 0.1217938501219707, 0.12175264549952677, 0.12171117551469691, 0.12166943610733279, 0.121627423168368, 0.12158513253894936, 0.12154256000955592, 0.12149970131910673, 0.12145655215405651, 0.12141310814747909, 0.12136936487813926, 0.12132531786955157, 0.12128096258902712, 0.1212362944467073, 0.12119130879458581, 0.12114600092551626, 0.12110036607220771, 0.12105439940620709, 0.1210080960368681, 0.12096145101030661, 0.12091445930834266, 0.12086711584742914, 0.1208194154775662, 0.12077135298120201, 0.12072292307212017, 0.12067412039431176, 0.12062493952083513, 0.12057537495265988, 0.12052542111749717, 0.12047507236861647, 0.12042432298364662, 0.1203731671633635, 0.120321599030463, 0.12026961262831928, 0.12021720191972927, 0.12016436078564172, 0.12011108302387265, 0.12005736234780587, 0.12000319238507996, 0.11994856667625972, 0.11989347867349413, 0.1198379217391603, 0.11978188914449268, 0.1197253740681994, 0.11966836959506325, 0.11961086871453086, 0.11955286431928706, 0.11949434920381674, 0.11943531606295306, 0.11937575749041358, 0.11931566597732336, 0.11925503391072637, 0.11919385357208427, 0.11913211713576467, 0.11906981666751745, 0.11900694412294069, 0.1189434913459366, 0.11887945006715675, 0.1188148119024398, 0.11874956835123851, 0.11868371079504053, 0.11861723049578003, 0.11855011859424398, 0.1184823661084717, 0.11841396393214935, 0.1183449028330001, 0.11827517345117043, 0.1182047662976139, 0.11813367175247379, 0.11806188006346455, 0.11798938134425334, 0.11791616557284484, 0.11784222258996734, 0.11776754209746329, 0.11769211365668614, 0.11761592668690338, 0.11753897046370816, 0.11746123411744143, 0.11738270663162484, 0.11730337684140789, 0.11722323343203009, 0.11714226493730014, 0.11706045973809401, 0.11697780606087503, 0.11689429197623678, 0.11680990539747184, 0.11672463407916855, 0.11663846561583914, 0.11655138744057934, 0.11646338682376638, 0.11637445087179342, 0.11628456652584691, 0.11619372056072892, 0.11610189958372624, 0.11600909003353224, 0.11591527817922279, 0.11582045011928985, 0.11572459178073857, 0.11562768891824902, 0.1155297271134086, 0.11543069177401831, 0.11533056813347727, 0.11522934125025029, 0.11512699600742252, 0.11502351711234689, 0.11491888909638821, 0.11481309631476927, 0.11470612294652525, 0.11459795299456996, 0.11448857028588132, 0.11437795847181012, 0.11426610102851996, 0.1141529812575624, 0.11403858228659494, 0.11392288707024782, 0.11380587839114598, 0.11368753886109312, 0.11356785092242566, 0.11344679684954156, 0.11332435875061335, 0.11320051856949183, 0.11307525808780822, 0.11294855892728213, 0.11282040255224336, 0.11269077027237652, 0.1125596432456943, 0.11242700248175107, 0.11229282884510083, 0.11215710305901262, 0.11201980570944858, 0.11188091724931502, 0.11174041800299456, 0.1115982881711695, 0.11145450783594249, 0.11130905696626736, 0.11116191542369563, 0.11101306296845004, 0.11086247926583245, 0.1107101438929762, 0.11055603634595144, 0.11040013604723224, 0.11024242235353379, 0.11008287456402968, 0.10992147192895606, 0.109758193658612, 0.10959301893276423, 0.10942592691046309, 0.10925689674027911, 0.10908590757096515, 0.1089129385625537, 0.1087379688978933, 0.10856097779463288, 0.10838194451765734, 0.10820084839198144, 0.1080176688161058, 0.10783238527583917, 0.10764497735859131, 0.10745542476813809, 0.10726370733986172, 0.10706980505646743, 0.10687369806417749, 0.10667536668940092, 0.1064747914558793, 0.10627195310230592, 0.10606683260041455, 0.10585941117353365, 0.10564967031560259, 0.10543759181063961, 0.10522315775265767, 0.10500635056601598, 0.10478715302619963, 0.1045655482810128, 0.10434151987217509, 0.10411505175730441, 0.10388612833227136, 0.10365473445390692, 0.10342085546304541, 0.10318447720787977, 0.10294558606760928, 0.10270416897635397, 0.10246021344730975, 0.10221370759711838, 0.1019646401704218, 0.10171300056457003, 0.10145877885445041, 0.10120196581740382, 0.10094255295819167, 0.10068053253397584, 0.10041589757927276, 0.10014864193083961, 0.09987876025245172, 0.09960624805952507, 0.0993311017435401, 0.09905331859621848, 0.09877289683340608, 0.0984898356186105, 0.09820413508614477, 0.09791579636382368, 0.0976248215951607, 0.09733121396101284, 0.09703497770061742, 0.09673611813196767, 0.0964346416714712, 0.09613055585283617, 0.0958238693451298, 0.09551459196995335, 0.09520273471767914, 0.09488830976269402, 0.09457133047759674, 0.09425181144629366, 0.09392976847594295, 0.0936052186076951, 0.09327818012617992, 0.0929486725676934, 0.0926167167270365, 0.09228233466296407, 0.09194554970220001, 0.0916063864419811, 0.09126487075109169, 0.09092102976935632, 0.09057489190555867, 0.0902264868337607, 0.08987584548799593, 0.0895230000553186, 0.08916798396719001, 0.08881083188918981, 0.08845157970904402, 0.08809026452296337, 0.08772692462029259, 0.08736159946647387, 0.08699432968433209, 0.08662515703369486, 0.0862541243893639, 0.08588127571745872, 0.08550665605015889, 0.08513031145887467, 0.08475228902588045, 0.08437263681445017, 0.08399140383753735, 0.08360864002504725, 0.08322439618975193, 0.08283872399190371, 0.08245167590260535, 0.08206330516599951, 0.08167366576034243, 0.08128281235803181, 0.08089080028465913, 0.08049768547716125, 0.08010352444114827, 0.07970837420748599, 0.07931229228821407, 0.07891533663188198, 0.0785175655783862, 0.07811903781339437, 0.07771981232244053, 0.07731994834477808, 0.07691950532707675, 0.07651854287704861, 0.07611712071708986, 0.07571529863802196, 0.07531313645301677, 0.07491069395178798, 0.07450803085513003, 0.07410520676988298, 0.07370228114440229, 0.07329931322460646, 0.07289636201067697, 0.07249348621447865, 0.07209074421776937, 0.07168819403126132, 0.07128589325459615, 0.07088389903729077, 0.07048226804070776, 0.07008105640110168, 0.06968031969378834, 0.06928011289847857, 0.06888049036581866, 0.06848150578517141, 0.06808321215367015, 0.06768566174657438, 0.06728890608895081, 0.06689299592870104, 0.06649798121095236, 0.06610391105382517, 0.06571083372558693, 0.06531879662319831, 0.06492784625225481, 0.06453802820832298, 0.06414938715966836, 0.0637619668313667, 0.06337580999079043, 0.06299095843445722, 0.06260745297622475, 0.062225333436815085, 0.06184463863464764, 0.06146540637795857, 0.061087673458182695, 0.06071147564457061, 0.060336847680013704, 0.059963823278046766, 0.05959243512099744, 0.059222714859249286, 0.05885469311158557, 0.058488399466578696, 0.058123862484989096, 0.057761109703138636, 0.057400167637219786, 0.05704106178850513, 0.05668381664941763, 0.0563284557104248, 0.05597500146771829, 0.05562347543164069, 0.05527389813582163, 0.05492628914698545, 0.054580667075392546, 0.05423704958587759, 0.05389545340944725, 0.053555894355402485, 0.053218387323947514, 0.052882946319253055, 0.05254958446293758, 0.052218314007933746, 0.05188914635270738, 0.05156209205579647, 0.051237160850640014, 0.05091436166066566, 0.05059370261460696, 0.050275191062022974, 0.04995883358899131, 0.04964463603394922, 0.04933260350365743, 0.04902274038926129, 0.04871505038242712, 0.04840953649153002, 0.048106201057872826, 0.04780504577191479, 0.04750607168949089, 0.04720927924800333, 0.04691466828256699, 0.046622238042092916, 0.046331987205293204, 0.04604391389659319, 0.04575801570193615, 0.045474289684467914, 0.045192732400088434, 0.044913339912859576, 0.0446361078102574, 0.04436103121825962, 0.044088104816258786, 0.043817322851792316, 0.04354867915508212, 0.04328216715337584, 0.04301777988508391, 0.04275551001370582, 0.042495349841540624, 0.042237291323176746, 0.041981326078756834, 0.041727445407013806, 0.04147564029807507, 0.041225901446032, 0.04097821926127226, 0.04073258388257311, 0.0404889851889545, 0.04024741281129027, 0.04000785614367718, 0.03977030435456104, 0.03953474639762029, 0.0393011710224066, 0.039069566784743714, 0.038839922056884676, 0.038612225037429, 0.038386463761000654, 0.038162626107688793, 0.03794069981225224, 0.03772067247309046, 0.03750253156098252, 0.03728626442759627, 0.037071858313770606, 0.03685930035757277, 0.03664857760213373, 0.03643967700326423, 0.03623258543685443, 0.036027289706060145, 0.035823776548278875, 0.03562203264191817, 0.03542204461296048, 0.03522379904132705, 0.0350272824670442, 0.03483248139621591, 0.03463938230680539, 0.034447971654229734, 0.03425823587677061, 0.03407016140080468, 0.03388373464585735, 0.0336989420294831, 0.033515769971976105, 0.033334204900914606, 0.03315423325554242, 0.03297584149099122, 0.03279901608234705, 0.03262374352856442, 0.03245001035623146, 0.03227780312318979, 0.03210710842201202, 0.03193791288334076, 0.031770203179092106, 0.03160396602552715, 0.03143918818619442, 0.03127585647474712, 0.031113957757637544, 0.030953478956692582, 0.030794407051572832, 0.03063672908211886, 0.030480432150587145, 0.030325503423779297, 0.030171930135066756, 0.03001969958631458, 0.0298687991497066, 0.02971921626947501, 0.029570938463537144, 0.02942395332504209, 0.029278248523829504, 0.02913381180780405, 0.02899063100422672, 0.028848694020926925, 0.028707988847436895, 0.028568503556050832, 0.02843022630281178, 0.02829314532842791, 0.028157248959120584, 0.02802252560740684, 0.027888963772817722, 0.027756552042555206, 0.027625279092089543, 0.027495133685698968, 0.027366104676953818, 0.02723818100914694, 0.027111351715672506, 0.02698560592035456, 0.02686093283772767, 0.026737321773270924, 0.02661476212359746, 0.026493243376600584, 0.0263727551115588, 0.026253286999200674, 0.0261348288017315, 0.02601737037282306, 0.025900901657568066, 0.025785412692400436, 0.0256708936049832, 0.025557334614064873, 0.025444726029306093, 0.025333058251077435, 0.025222321770229754, 0.02511250716783817, 0.025003605114921182, 0.024895606372135514, 0.024788501789448105, 0.024682282305786465, 0.024576938948667894, 0.024472462833809203, 0.024368845164717302, 0.024266077232262134, 0.02416415041423237, 0.024063056174875128, 0.02396278606442052, 0.02386333171859145, 0.02376468485810003, 0.02366683728813112, 0.023569780897813544, 0.023473507659680162, 0.023378009629117066, 0.023283278943802853, 0.023189307823138494, 0.02309608856766844, 0.023003613558493688, 0.022911875256677258, 0.022820866202642624, 0.022730579015565945, 0.022641006392762123, 0.022552141109065674, 0.022463976016206654, 0.02237650404218217, 0.022289718190623854, 0.02220361154016196, 0.022118177243786154, 0.022033408528203794, 0.021949298693195802, 0.021865841110970584, 0.021783029225516424, 0.021700856551952613, 0.021619316675879765, 0.021538403252729318, 0.021458110007113066, 0.02137843073217251, 0.021299359288928493, 0.021220889605631524, 0.02114301567711282, 0.021065731564136405, 0.02098903139275261, 0.020912909353652937, 0.020837359701526857, 0.020762376754420338, 0.020687954893096556, 0.020614088560399122, 0.020540772260617485, 0.020468000558855233, 0.02039576808040108, 0.020324069510102898, 0.020252899591744762, 0.020182253127427385, 0.0201121249769518, 0.020042510057206506, 0.0199734033415584, 0.019904799859247226, 0.01983669469478395, 0.01976908298735304, 0.01970195993021861, 0.01963532077013485, 0.01956916080676049, 0.01950347539207749, 0.01943825992981401, 0.019373509874871908, 0.01930922073275834, 0.01924538805902217, 0.019182007458694663, 0.019119074585734842, 0.019056585142479363, 0.01899453487909712, 0.01893291959304853, 0.018871735128549387, 0.018810977376039588, 0.018750642271656494, 0.018690725796713117, 0.01863122397718113, 0.018572132883178515, 0.018513448628462225, 0.018455167369925477, 0.018397285307099952, 0.018339798681662862, 0.018282703776948715, 0.018225996917465955, 0.018169674468418436, 0.018113732835231745, 0.018058168463084202, 0.0180029778364427, 0.01794815747860345, 0.017893703951237263, 0.017839613853939746, 0.01778588382378621, 0.017732510534891232, 0.017679490697972988, 0.017626821059922148, 0.017574498403375563, 0.017522519546294548, 0.0174708813415476, 0.017419580676497994, 0.01736861447259565, 0.017317979684973735, 0.017267673302049646, 0.01721769234513049, 0.017168033868023, 0.017118694956647907, 0.017069672728658628, 0.017020964333064357, 0.016972566949857392, 0.016924477789644843, 0.01687669409328454, 0.01682921313152509, 0.01678203220465028, 0.0167351486421275, 0.016688559802260215, 0.016642263071844767, 0.016596255865830915, 0.016550535626986603, 0.016505099825566603, 0.01645994595898509, 0.01641507155149212, 0.016370474153854026, 0.016326151343037564, 0.016282100721897827, 0.016238319918870057, 0.016194806587664954, 0.01615155840696788, 0.016108573080141565, 0.016065848334932395, 0.016023381923180417, 0.01598117162053269, 0.015939215226160312, 0.01589751056247874, 0.015856055474871605, 0.01581484783141795, 0.0157738855226227, 0.015733166461150607, 0.01569268858156329, 0.015652449840059614, 0.015612448214219306, 0.015572681702749612, 0.015533148325235231, 0.015493846121891228, 0.015454773153319078, 0.01541592750026573, 0.015377307263385598, 0.015338910563005594, 0.015300735538893042, 0.015262780350026478, 0.015225043174369356, 0.015187522208646461, 0.015150215668123251, 0.015113121786387849, 0.01507623881513583, 0.015039565023957601, 0.015003098700128607, 0.014966838148401947, 0.014930781690803786, 0.0148949276664312, 0.014859274431252591, 0.014823820357910616, 0.014788563835527579, 0.014753503269513277, 0.014718637081375191, 0.014683963708531185, 0.014649481604124399, 0.014615189236840591, 0.01458108509072773, 0.014547167665017815, 0.014513435473950974, 0.014479887046601799, 0.014446520926707786, 0.014413335672499946, 0.01438032985653563, 0.01434750206553335, 0.014314850900209675, 0.014282374975118257, 0.01425007291849082, 0.014217943372080143, 0.014185984991004997, 0.01415419644359711, 0.014122576411249923, 0.014091123588269343, 0.014059836681726374, 0.014028714411311493, 0.013997755509190881, 0.013966958719864617, 0.013936322800026393, 0.01390584651842511, 0.013875528655728286, 0.01384536800438699, 0.013815363368502588, 0.013785513563695173, 0.013755817416973504, 0.01372627376660671, 0.01369688146199751, 0.013667639363557006, 0.013638546342581204, 0.013609601281128723, 0.013580803071900389, 0.013552150618120196, 0.013523642833417584, 0.013495278641711458, 0.013467056977095413, 0.01343897678372457, 0.013411037015703647, 0.013383236636976537, 0.013355574621217182, 0.013328049951721854, 0.01330066162130271, 0.013273408632182702, 0.013246289995891789, 0.013219304733164381, 0.013192451873838097, 0.013165730456753743, 0.013139139529656542, 0.013112678149098543, 0.013086345380342281, 0.013060140297265556, 0.013034061982267425, 0.013008109526175348, 0.012982282028153488, 0.012956578595611981, 0.012930998344117579, 0.012905540397305154, 0.012880203886790441, 0.01285498795208366, 0.012829891740504395, 0.012804914407097428, 0.012780055114549506, 0.012755313033107249, 0.012730687340495999, 0.01270617722183966, 0.012681781869581478, 0.01265750048340584, 0.012633332270160934, 0.012609276443782477, 0.012585332225218198, 0.012561498842353342, 0.01253777552993705, 0.012514161529509613, 0.012490656089330589, 0.012467258464307815, 0.012443967915927215, 0.0124207837121835, 0.012397705127511776, 0.012374731442719658, 0.012351861944920649, 0.012329095927467915, 0.012306432689889056, 0.012283871537821634, 0.012261411782949407, 0.012239052742939367, 0.012216793741379494, 0.01219463410771729, 0.012172573177198992, 0.012150610290809548, 0.0121287447952132, 0.012106976042694997, 0.01208530339110272, 0.01206372620378963, 0.012042243849557934, 0.012020855702602825, 0.011999561142457203, 0.011978359553937033, 0.011957250327087398, 0.011936232857129164, 0.011915306544406142, 0.011894470794333069, 0.011873725017344084, 0.011853068628841754, 0.011832501049146833, 0.011812021703448474, 0.011791630021755066, 0.011771325438845678, 0.011751107394222008, 0.011730975332060892, 0.011710928701167394, 0.011690966954928439, 0.011671089551266887, 0.011651295952596298, 0.01163158562577604, 0.011611958042067072, 0.011592412677088102, 0.011572949010772299, 0.01155356652732455, 0.011534264715179127, 0.011515043066957813, 0.011495901079428668, 0.011476838253465052, 0.011457854094005255, 0.011438948110012547, 0.01142011981443565, 0.011401368724169707, 0.01138269436001765, 0.011364096246652017, 0.011345573912577227, 0.011327126890092217, 0.011308754715253574, 0.011290456927839015, 0.011272233071311298, 0.01125408269278258, 0.011236005342979099, 0.011218000576206307, 0.011200067950314358, 0.011182207026663985, 0.011164417370092813, 0.011146698548881928, 0.011129050134722955, 0.011111471702685356, 0.011093962831184245, 0.01107652310194843, 0.011059152099988872, 0.01104184941356746, 0.011024614634166176, 0.011007447356456519, 0.010990347178269385, 0.010973313700565136, 0.01095634652740411, 0.010939445265917403, 0.010922609526277938, 0.010905838921671952, 0.010889133068270673, 0.010872491585202386, 0.010855914094524811, 0.010839400221197656, 0.010822949593055645, 0.01080656184078173, 0.010790236597880573, 0.010773973500652413, 0.010757772188167092, 0.0107416323022385, 0.010725553487399139, 0.010709535390875104, 0.010693577662561219, 0.010677679954996537, 0.01066184192334, 0.01064606322534643, 0.010630343521342796, 0.010614682474204634, 0.010599079749332802, 0.010583535014630495, 0.01056804794048038, 0.010552618199722145, 0.010537245467630168, 0.01052192942189144, 0.010506669742583748, 0.010491466112154077, 0.010476318215397214, 0.010461225739434657, 0.010446188373693597, 0.010431205809886287, 0.010416277741989513, 0.010401403866224339, 0.010386583881036013, 0.010371817487074114, 0.010357104387172935, 0.010342444286331996, 0.010327836891696817, 0.010313281912539872, 0.010298779060241755, 0.010284328048272487, 0.010269928592173086, 0.01025558040953729, 0.010241283219993487, 0.010227036745186775, 0.010212840708761295, 0.010198694836342673, 0.010184598855520696, 0.010170552495832092, 0.010156555488743564, 0.010142607567634966, 0.010128708467782617, 0.01011485792634284, 0.010101055682335667, 0.010087301476628603, 0.010073595051920738, 0.01005993615272686, 0.01004632452536178, 0.01003275991792488, 0.010019242080284678, 0.010005770764063709, 0.00999234572262341, 0.009978966711049277, 0.00996563348613609, 0.00995234580637333, 0.009939103431930697, 0.009925906124643846, 0.009912753648000186, 0.00989964576712485, 0.009886582248766849, 0.009873562861285287, 0.009860587374635762, 0.009847655560356881, 0.009834767191556935, 0.009821922042900675, 0.009809119890596204, 0.009796360512382092, 0.009783643687514462, 0.009770969196754367, 0.009758336822355175, 0.009745746348050114, 0.009733197559039952, 0.009720690241980811, 0.009708224184972022, 0.009695799177544201, 0.009683415010647348, 0.009671071476639157, 0.009658768369273337, 0.009646505483688138, 0.009634282616394913, 0.009622099565266846, 0.009609956129527775, 0.009597852109741078, 0.009585787307798733, 0.009573761526910462, 0.009561774571592938, 0.009549826247659142, 0.009537916362207827, 0.009526044723613025, 0.00951421114151372, 0.009502415426803591, 0.009490657391620836, 0.009478936849338131, 0.009467253614552648, 0.009455607503076177, 0.009443998331925385, 0.009432425919312083, 0.009420890084633657, 0.009409390648463566, 0.009397927432541902, 0.00938650025976612, 0.009375108954181718, 0.009363753340973169, 0.009352433246454787, 0.009341148498061792, 0.009329898924341393, 0.00931868435494396, 0.00930750462061434, 0.009296359553183158, 0.00928524898555826, 0.009274172751716233, 0.00926313068669399, 0.009252122626580404, 0.009241148408508133, 0.00923020787064534, 0.00921930085218765, 0.009208427193350108, 0.009197586735359189, 0.009186779320444975, 0.0091760047918333, 0.009165262993738018, 0.009154553771353331, 0.0091438769708462, 0.009133232439348837, 0.009122620024951162, 0.00911203957669352, 0.009101490944559282, 0.009090973979467596, 0.009080488533266222, 0.00907003445872436, 0.009059611609525639, 0.009049219840261065, 0.009038859006422123, 0.009028528964393885, 0.009018229571448183, 0.0090079606857369, 0.008997722166285235]\n",
            "Validation test\n",
            "Training data[0]: Network output: 0.037687397843292635 Expected output: 0.0\n",
            "Training data[1]: Network output: 0.03774624193905006 Expected output: 0.0\n",
            "Training data[2]: Network output: 0.03781155620133861 Expected output: 0.0\n",
            "Training data[3]: Network output: 0.037884074556929825 Expected output: 0.0\n",
            "Training data[4]: Network output: 0.03796461924158624 Expected output: 0.0\n",
            "Training data[95]: Network output: 0.963132709025077 Expected output: 1.0\n",
            "Training data[96]: Network output: 0.9632009766092023 Expected output: 1.0\n",
            "Training data[97]: Network output: 0.9632624111602193 Expected output: 1.0\n",
            "Training data[98]: Network output: 0.963317716828362 Expected output: 1.0\n",
            "Training data[99]: Network output: 0.963367521519794 Expected output: 1.0\n",
            "Model accuracy: 1.0\n"
          ],
          "name": "stdout"
        },
        {
          "output_type": "execute_result",
          "data": {
            "text/plain": [
              "<matplotlib.legend.Legend at 0x7fe423215ed0>"
            ]
          },
          "metadata": {
            "tags": []
          },
          "execution_count": 51
        },
        {
          "output_type": "display_data",
          "data": {
            "image/png": "[encoded data removed]",
            "text/plain": [
              "<Figure size 432x288 with 1 Axes>"
            ]
          },
          "metadata": {
            "tags": [],
            "needs_background": "light"
          }
        }
      ]
    }
  ]
}